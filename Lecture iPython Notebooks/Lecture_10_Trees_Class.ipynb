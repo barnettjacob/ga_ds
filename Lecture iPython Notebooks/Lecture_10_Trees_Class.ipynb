{
 "cells": [
  {
   "cell_type": "markdown",
   "metadata": {},
   "source": [
    "# Decision Trees"
   ]
  },
  {
   "cell_type": "code",
   "execution_count": 1,
   "metadata": {
    "collapsed": false
   },
   "outputs": [
    {
     "name": "stdout",
     "output_type": "stream",
     "text": [
      "Populating the interactive namespace from numpy and matplotlib\n"
     ]
    }
   ],
   "source": [
    "%pylab inline\n",
    "from sklearn import datasets, metrics, tree, cross_validation\n",
    "from matplotlib import pyplot as plt\n",
    "%matplotlib inline"
   ]
  },
  {
   "cell_type": "code",
   "execution_count": 2,
   "metadata": {
    "collapsed": false
   },
   "outputs": [],
   "source": [
    "#use the iris dataset\n",
    "iris = datasets.load_iris()\n"
   ]
  },
  {
   "cell_type": "code",
   "execution_count": 3,
   "metadata": {
    "collapsed": false
   },
   "outputs": [],
   "source": [
    "#start and instance of a tree\n",
    "myTree = tree.DecisionTreeClassifier()"
   ]
  },
  {
   "cell_type": "code",
   "execution_count": 4,
   "metadata": {
    "collapsed": false
   },
   "outputs": [],
   "source": [
    "#fit the model\n",
    "myTree_fit = myTree.fit(iris.data, iris.target)"
   ]
  },
  {
   "cell_type": "code",
   "execution_count": 5,
   "metadata": {
    "collapsed": false
   },
   "outputs": [],
   "source": [
    "#do the prediction\n",
    "y_pred = myTree_fit.predict(iris.data)"
   ]
  },
  {
   "cell_type": "code",
   "execution_count": 6,
   "metadata": {
    "collapsed": false
   },
   "outputs": [
    {
     "data": {
      "text/plain": [
       "array([0, 0, 0, 0, 0, 0, 0, 0, 0, 0, 0, 0, 0, 0, 0, 0, 0, 0, 0, 0, 0, 0, 0,\n",
       "       0, 0, 0, 0, 0, 0, 0, 0, 0, 0, 0, 0, 0, 0, 0, 0, 0, 0, 0, 0, 0, 0, 0,\n",
       "       0, 0, 0, 0, 1, 1, 1, 1, 1, 1, 1, 1, 1, 1, 1, 1, 1, 1, 1, 1, 1, 1, 1,\n",
       "       1, 1, 1, 1, 1, 1, 1, 1, 1, 1, 1, 1, 1, 1, 1, 1, 1, 1, 1, 1, 1, 1, 1,\n",
       "       1, 1, 1, 1, 1, 1, 1, 1, 2, 2, 2, 2, 2, 2, 2, 2, 2, 2, 2, 2, 2, 2, 2,\n",
       "       2, 2, 2, 2, 2, 2, 2, 2, 2, 2, 2, 2, 2, 2, 2, 2, 2, 2, 2, 2, 2, 2, 2,\n",
       "       2, 2, 2, 2, 2, 2, 2, 2, 2, 2, 2, 2])"
      ]
     },
     "execution_count": 6,
     "metadata": {},
     "output_type": "execute_result"
    }
   ],
   "source": [
    "y_pred"
   ]
  },
  {
   "cell_type": "code",
   "execution_count": 7,
   "metadata": {
    "collapsed": false
   },
   "outputs": [
    {
     "name": "stdout",
     "output_type": "stream",
     "text": [
      "Number of mislabelled points: 0\n"
     ]
    }
   ],
   "source": [
    "#how did we do?\n",
    "print('Number of mislabelled points: %d' % (iris.target != y_pred).sum())"
   ]
  },
  {
   "cell_type": "code",
   "execution_count": 8,
   "metadata": {
    "collapsed": false
   },
   "outputs": [
    {
     "name": "stdout",
     "output_type": "stream",
     "text": [
      "Absolutely ridiculous overfit score: 1\n"
     ]
    }
   ],
   "source": [
    "print('Absolutely ridiculous overfit score: %d' % (myTree_fit.score(iris.data, iris.target)))"
   ]
  },
  {
   "cell_type": "code",
   "execution_count": 9,
   "metadata": {
    "collapsed": false
   },
   "outputs": [
    {
     "data": {
      "text/plain": [
       "array([[50,  0,  0],\n",
       "       [ 0, 50,  0],\n",
       "       [ 0,  0, 50]])"
      ]
     },
     "execution_count": 9,
     "metadata": {},
     "output_type": "execute_result"
    }
   ],
   "source": [
    "metrics.confusion_matrix(iris.target, y_pred)"
   ]
  },
  {
   "cell_type": "code",
   "execution_count": 10,
   "metadata": {
    "collapsed": false
   },
   "outputs": [
    {
     "name": "stdout",
     "output_type": "stream",
     "text": [
      "             precision    recall  f1-score   support\n",
      "\n",
      "          0       1.00      1.00      1.00        50\n",
      "          1       1.00      1.00      1.00        50\n",
      "          2       1.00      1.00      1.00        50\n",
      "\n",
      "avg / total       1.00      1.00      1.00       150\n",
      "\n"
     ]
    }
   ],
   "source": [
    "print metrics.classification_report(iris.target, y_pred)"
   ]
  },
  {
   "cell_type": "code",
   "execution_count": 11,
   "metadata": {
    "collapsed": false
   },
   "outputs": [
    {
     "name": "stdout",
     "output_type": "stream",
     "text": [
      "             precision    recall  f1-score   support\n",
      "\n",
      "          0       1.00      1.00      1.00        34\n",
      "          1       1.00      1.00      1.00        40\n",
      "          2       1.00      1.00      1.00        31\n",
      "\n",
      "avg / total       1.00      1.00      1.00       105\n",
      "\n",
      "             precision    recall  f1-score   support\n",
      "\n",
      "          0       1.00      1.00      1.00        16\n",
      "          1       0.77      1.00      0.87        10\n",
      "          2       1.00      0.84      0.91        19\n",
      "\n",
      "avg / total       0.95      0.93      0.93        45\n",
      "\n"
     ]
    }
   ],
   "source": [
    "#generalising the tree\n",
    "clf = tree.DecisionTreeClassifier()\n",
    "\n",
    "x_train, x_test, y_train, y_test = cross_validation.train_test_split(iris.data, iris.target, test_size=.3)\n",
    "\n",
    "clf.fit(x_train, y_train)\n",
    "\n",
    "metrics.confusion_matrix(y_train, clf.predict(x_train))\n",
    "\n",
    "print metrics.classification_report(y_train, clf.predict(x_train))\n",
    "\n",
    "metrics.confusion_matrix(y_test, clf.predict(x_test))\n",
    "\n",
    "print metrics.classification_report(y_test, clf.predict(x_test))"
   ]
  },
  {
   "cell_type": "code",
   "execution_count": 12,
   "metadata": {
    "collapsed": false
   },
   "outputs": [
    {
     "data": {
      "text/plain": [
       "array([[16,  0,  0],\n",
       "       [ 0, 10,  0],\n",
       "       [ 0,  2, 17]])"
      ]
     },
     "execution_count": 12,
     "metadata": {},
     "output_type": "execute_result"
    }
   ],
   "source": [
    "#can prune the model by changing min_samples_leaf and max_depth\n",
    "clf.set_params(min_samples_leaf = 5)\n",
    "clf.set_params(max_depth = 5)\n",
    "clf.fit(x_train, y_train)\n",
    "metrics.confusion_matrix(y_train, clf.predict(x_train))\n",
    "metrics.confusion_matrix(y_test, clf.predict(x_test))"
   ]
  },
  {
   "cell_type": "code",
   "execution_count": 13,
   "metadata": {
    "collapsed": false
   },
   "outputs": [],
   "source": [
    "#get the parents and children out of the tree structure\n",
    "def get_lineage(tree, feature_names):\n",
    "    left = tree.tree_.children_left\n",
    "    right = tree.tree_.children_right\n",
    "    threshold = tree.tree_.threshold\n",
    "    features = [feature_names[i] for i in tree.tree_.feature]\n",
    "    #get ids of child nodes\n",
    "    idx = np.argwhere(left == -1)[:,0]\n",
    "    def recurse(left, right, child, lineage=None):\n",
    "        if lineage is None:\n",
    "            lineage = [child]\n",
    "        \n",
    "        if child in left:\n",
    "            parent = np.where(left==child)[0].item()\n",
    "            split = 'l'\n",
    "        \n",
    "        else:\n",
    "            parent = np.where(right==child)[0].item()\n",
    "            split = 'r'\n",
    "        \n",
    "        lineage.append((parent, split, threshold[parent], features[parent]))\n",
    "        \n",
    "        if parent == 0:\n",
    "            lineage.reverse()\n",
    "            return lineage\n",
    "        else: \n",
    "            return recurse(left, right, parent, lineage)\n",
    "        \n",
    "    for child in idx:\n",
    "        for node in recurse(left, right, child):\n",
    "            print node"
   ]
  },
  {
   "cell_type": "code",
   "execution_count": 14,
   "metadata": {
    "collapsed": false
   },
   "outputs": [
    {
     "name": "stdout",
     "output_type": "stream",
     "text": [
      "(0, 'l', 0.80000001192092896, 'petal width (cm)')\n",
      "1\n",
      "(0, 'r', 0.80000001192092896, 'petal width (cm)')\n",
      "(2, 'l', 1.75, 'petal width (cm)')\n",
      "(3, 'l', 4.9499998092651367, 'petal length (cm)')\n",
      "(4, 'l', 1.6500000953674316, 'petal width (cm)')\n",
      "5\n",
      "(0, 'r', 0.80000001192092896, 'petal width (cm)')\n",
      "(2, 'l', 1.75, 'petal width (cm)')\n",
      "(3, 'l', 4.9499998092651367, 'petal length (cm)')\n",
      "(4, 'r', 1.6500000953674316, 'petal width (cm)')\n",
      "6\n",
      "(0, 'r', 0.80000001192092896, 'petal width (cm)')\n",
      "(2, 'l', 1.75, 'petal width (cm)')\n",
      "(3, 'r', 4.9499998092651367, 'petal length (cm)')\n",
      "(7, 'l', 1.5499999523162842, 'petal width (cm)')\n",
      "8\n",
      "(0, 'r', 0.80000001192092896, 'petal width (cm)')\n",
      "(2, 'l', 1.75, 'petal width (cm)')\n",
      "(3, 'r', 4.9499998092651367, 'petal length (cm)')\n",
      "(7, 'r', 1.5499999523162842, 'petal width (cm)')\n",
      "(9, 'l', 6.9499998092651367, 'sepal length (cm)')\n",
      "10\n",
      "(0, 'r', 0.80000001192092896, 'petal width (cm)')\n",
      "(2, 'l', 1.75, 'petal width (cm)')\n",
      "(3, 'r', 4.9499998092651367, 'petal length (cm)')\n",
      "(7, 'r', 1.5499999523162842, 'petal width (cm)')\n",
      "(9, 'r', 6.9499998092651367, 'sepal length (cm)')\n",
      "11\n",
      "(0, 'r', 0.80000001192092896, 'petal width (cm)')\n",
      "(2, 'r', 1.75, 'petal width (cm)')\n",
      "(12, 'l', 4.8500003814697266, 'petal length (cm)')\n",
      "(13, 'l', 5.9499998092651367, 'sepal length (cm)')\n",
      "14\n",
      "(0, 'r', 0.80000001192092896, 'petal width (cm)')\n",
      "(2, 'r', 1.75, 'petal width (cm)')\n",
      "(12, 'l', 4.8500003814697266, 'petal length (cm)')\n",
      "(13, 'r', 5.9499998092651367, 'sepal length (cm)')\n",
      "15\n",
      "(0, 'r', 0.80000001192092896, 'petal width (cm)')\n",
      "(2, 'r', 1.75, 'petal width (cm)')\n",
      "(12, 'r', 4.8500003814697266, 'petal length (cm)')\n",
      "16\n"
     ]
    }
   ],
   "source": [
    "get_lineage(myTree_fit, iris.feature_names)"
   ]
  },
  {
   "cell_type": "code",
   "execution_count": 15,
   "metadata": {
    "collapsed": false
   },
   "outputs": [],
   "source": [
    "#use pydot\n",
    "import StringIO\n",
    "\n",
    "#install pydot\n",
    "import pydot\n",
    "import pyparsing"
   ]
  },
  {
   "cell_type": "code",
   "execution_count": 16,
   "metadata": {
    "collapsed": false
   },
   "outputs": [
    {
     "name": "stdout",
     "output_type": "stream",
     "text": [
      "\n",
      "image created!\n"
     ]
    }
   ],
   "source": [
    "dot_data = StringIO.StringIO()\n",
    "tree.export_graphviz(myTree_fit, out_file=dot_data)\n",
    "graph = pydot.graph_from_dot_data(dot_data.getvalue())\n",
    "graph.write_pdf('iris_decisiontree.pdf')\n",
    "print '\\nimage created!'"
   ]
  },
  {
   "cell_type": "code",
   "execution_count": null,
   "metadata": {
    "collapsed": false
   },
   "outputs": [],
   "source": []
  }
 ],
 "metadata": {
  "kernelspec": {
   "display_name": "Python 2",
   "language": "python",
   "name": "python2"
  },
  "language_info": {
   "codemirror_mode": {
    "name": "ipython",
    "version": 2
   },
   "file_extension": ".py",
   "mimetype": "text/x-python",
   "name": "python",
   "nbconvert_exporter": "python",
   "pygments_lexer": "ipython2",
   "version": "2.7.10"
  }
 },
 "nbformat": 4,
 "nbformat_minor": 0
}
