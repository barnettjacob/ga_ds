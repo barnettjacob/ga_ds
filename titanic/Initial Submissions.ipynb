{
 "cells": [
  {
   "cell_type": "code",
   "execution_count": 62,
   "metadata": {
    "collapsed": false
   },
   "outputs": [
    {
     "name": "stdout",
     "output_type": "stream",
     "text": [
      "Populating the interactive namespace from numpy and matplotlib\n"
     ]
    },
    {
     "name": "stderr",
     "output_type": "stream",
     "text": [
      "WARNING: pylab import has clobbered these variables: ['xlim', 'ylim', 'test']\n",
      "`%matplotlib` prevents importing * from pylab and numpy\n"
     ]
    }
   ],
   "source": [
    "import numpy as np\n",
    "import pandas as pd\n",
    "%pylab inline\n",
    "import seaborn as sns\n",
    "from pandasql import sqldf\n",
    "import matplotlib.pyplot as plt\n",
    "from ggplot import *\n",
    "import qgrid\n",
    "qgrid.nbinstall()\n",
    "pysqldf = lambda q: sqldf(q, globals())\n",
    "from sklearn.linear_model import LogisticRegression\n",
    "from sklearn import cross_validation, tree, metrics, svm\n",
    "from sklearn.metrics import accuracy_score\n",
    "from sklearn.neighbors import KNeighborsClassifier\n",
    "from sklearn.naive_bayes import MultinomialNB\n",
    "from sklearn.metrics import accuracy_score\n",
    "from sklearn import cross_validation, tree, metrics\n",
    "from sklearn.naive_bayes import GaussianNB, MultinomialNB "
   ]
  },
  {
   "cell_type": "code",
   "execution_count": 2,
   "metadata": {
    "collapsed": true
   },
   "outputs": [],
   "source": [
    "dataset = pd.read_csv('proc_data.csv')"
   ]
  },
  {
   "cell_type": "code",
   "execution_count": 3,
   "metadata": {
    "collapsed": false
   },
   "outputs": [],
   "source": [
    "train = dataset.query('type == \"train\"')         \n",
    "test = dataset.query('type == \"test\"')  "
   ]
  },
  {
   "cell_type": "code",
   "execution_count": 4,
   "metadata": {
    "collapsed": true
   },
   "outputs": [],
   "source": [
    "X = train[['class', 'female', 'age', 'fare']].values\n",
    "y = train['survived'].values"
   ]
  },
  {
   "cell_type": "code",
   "execution_count": 30,
   "metadata": {
    "collapsed": false
   },
   "outputs": [],
   "source": [
    "X_test = test[['class', 'female', 'age', 'fare']].values\n",
    "test_ids = test['id']\n",
    "test_ids = pd.DataFrame(test_ids.reset_index()['id'])"
   ]
  },
  {
   "cell_type": "markdown",
   "metadata": {},
   "source": [
    "**Logistic Regression**"
   ]
  },
  {
   "cell_type": "code",
   "execution_count": 18,
   "metadata": {
    "collapsed": false
   },
   "outputs": [],
   "source": [
    "log_reg = LogisticRegression()\n",
    "log_reg.fit(X, y)\n",
    "y_test_predicted = log_reg.predict(X_test)\n",
    "predictions = pd.DataFrame(y_test_predicted)\n",
    "submission = pd.concat([test_ids, predictions], axis=1)\n",
    "submission.columns = ['PassengerId', 'Survived']\n",
    "submission['Survived'] = submission['Survived'].astype(int)\n",
    "submission.to_csv('submission1.csv', sep = ',', index = False)"
   ]
  },
  {
   "cell_type": "markdown",
   "metadata": {},
   "source": [
    "**Decision Tree**"
   ]
  },
  {
   "cell_type": "code",
   "execution_count": 59,
   "metadata": {
    "collapsed": false
   },
   "outputs": [],
   "source": [
    "dt = tree.DecisionTreeClassifier()\n",
    "dt.fit(X, y)\n",
    "y_test_predicted = dt.predict(X_test)\n",
    "predictions = pd.DataFrame(y_test_predicted)\n",
    "submission = pd.concat([test_ids, predictions], axis=1)\n",
    "submission.columns = ['PassengerId', 'Survived']\n",
    "submission['Survived'] = submission['Survived'].astype(int)\n",
    "submission.to_csv('submission2.csv', sep = ',', index = False)"
   ]
  },
  {
   "cell_type": "markdown",
   "metadata": {},
   "source": [
    "**K Nearest Neighbours**"
   ]
  },
  {
   "cell_type": "code",
   "execution_count": 58,
   "metadata": {
    "collapsed": true
   },
   "outputs": [],
   "source": [
    "kn = KNeighborsClassifier(n_neighbors=4)\n",
    "kn.fit(X, y)\n",
    "y_test_predicted = kn.predict(X_test)\n",
    "predictions = pd.DataFrame(y_test_predicted)\n",
    "submission = pd.concat([test_ids, predictions], axis=1)\n",
    "submission.columns = ['PassengerId', 'Survived']\n",
    "submission['Survived'] = submission['Survived'].astype(int)\n",
    "submission.to_csv('submission3.csv', sep = ',', index = False)"
   ]
  },
  {
   "cell_type": "markdown",
   "metadata": {},
   "source": [
    "**Naive Bayes**"
   ]
  },
  {
   "cell_type": "code",
   "execution_count": 60,
   "metadata": {
    "collapsed": true
   },
   "outputs": [],
   "source": [
    "gnb = GaussianNB()\n",
    "gnb.fit(X, y)\n",
    "y_test_predicted = kn.predict(X_test)\n",
    "predictions = pd.DataFrame(y_test_predicted)\n",
    "submission = pd.concat([test_ids, predictions], axis=1)\n",
    "submission.columns = ['PassengerId', 'Survived']\n",
    "submission['Survived'] = submission['Survived'].astype(int)\n",
    "submission.to_csv('submission4.csv', sep = ',', index = False)"
   ]
  },
  {
   "cell_type": "markdown",
   "metadata": {},
   "source": [
    "**Support Vector Machine**"
   ]
  },
  {
   "cell_type": "code",
   "execution_count": 63,
   "metadata": {
    "collapsed": false
   },
   "outputs": [],
   "source": [
    "sup = svm.SVC(kernel = 'rbf',gamma=0.8, C=5)\n",
    "sup.fit(X, y)\n",
    "y_test_predicted = sup.predict(X_test)\n",
    "predictions = pd.DataFrame(y_test_predicted)\n",
    "submission = pd.concat([test_ids, predictions], axis=1)\n",
    "submission.columns = ['PassengerId', 'Survived']\n",
    "submission['Survived'] = submission['Survived'].astype(int)\n",
    "submission.to_csv('submission5.csv', sep = ',', index = False)"
   ]
  },
  {
   "cell_type": "code",
   "execution_count": null,
   "metadata": {
    "collapsed": true
   },
   "outputs": [],
   "source": []
  }
 ],
 "metadata": {
  "kernelspec": {
   "display_name": "Python 2",
   "language": "python",
   "name": "python2"
  },
  "language_info": {
   "codemirror_mode": {
    "name": "ipython",
    "version": 2
   },
   "file_extension": ".py",
   "mimetype": "text/x-python",
   "name": "python",
   "nbconvert_exporter": "python",
   "pygments_lexer": "ipython2",
   "version": "2.7.10"
  }
 },
 "nbformat": 4,
 "nbformat_minor": 0
}
