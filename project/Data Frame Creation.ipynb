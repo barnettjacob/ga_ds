{
 "cells": [
  {
   "cell_type": "code",
   "execution_count": 116,
   "metadata": {
    "collapsed": false
   },
   "outputs": [],
   "source": [
    "#load the required libraries\n",
    "import mysql.connector as my\n",
    "import pandas as pd\n",
    "from datetime import date, datetime, timedelta\n",
    "from dateutil.relativedelta import relativedelta\n",
    "from pandasql import sqldf\n",
    "from ggplot import *\n",
    "\n",
    "pysqldf = lambda q: sqldf(q, globals())"
   ]
  },
  {
   "cell_type": "markdown",
   "metadata": {},
   "source": [
    "###Connect to Analytics Snapshot and extract distinct Users who have made a Booking"
   ]
  },
  {
   "cell_type": "code",
   "execution_count": 66,
   "metadata": {
    "collapsed": true
   },
   "outputs": [],
   "source": [
    "con = my.connect(host = 'analytics-db.housetrip.com', port = 3306, user = 'jbarnett', db = 'housetrip_production', passwd = 'xxxxxx')"
   ]
  },
  {
   "cell_type": "code",
   "execution_count": 123,
   "metadata": {
    "collapsed": false
   },
   "outputs": [],
   "source": [
    "guest_query = '''\n",
    "    SELECT\n",
    "        b.user_id,\n",
    "        min(b.accepted_date) as first_booking,\n",
    "        g.first_destination,\n",
    "        b.user_country\n",
    "    FROM dw_bookings b\n",
    "    LEFT JOIN dw_guests g on g.user_id = b.user_id\n",
    "    WHERE b.status = 'accepted'\n",
    "    GROUP BY b.user_id, g.first_destination, b.user_country\n",
    "    '''\n",
    "\n",
    "guests = pd.read_sql(guest_query, con = con)"
   ]
  },
  {
   "cell_type": "code",
   "execution_count": 130,
   "metadata": {
    "collapsed": false
   },
   "outputs": [
    {
     "name": "stdout",
     "output_type": "stream",
     "text": [
      "Data Frame of 474532 rows and 4 columns\n"
     ]
    },
    {
     "data": {
      "text/html": [
       "<div style=\"max-height:1000px;max-width:1500px;overflow:auto;\">\n",
       "<table border=\"1\" class=\"dataframe\">\n",
       "  <thead>\n",
       "    <tr style=\"text-align: right;\">\n",
       "      <th></th>\n",
       "      <th>user_id</th>\n",
       "      <th>first_booking</th>\n",
       "      <th>first_destination</th>\n",
       "      <th>user_country</th>\n",
       "    </tr>\n",
       "  </thead>\n",
       "  <tbody>\n",
       "    <tr>\n",
       "      <th>0</th>\n",
       "      <td>74</td>\n",
       "      <td>2009-09-09</td>\n",
       "      <td>Munich</td>\n",
       "      <td>Germany</td>\n",
       "    </tr>\n",
       "    <tr>\n",
       "      <th>1</th>\n",
       "      <td>75</td>\n",
       "      <td>2009-10-11</td>\n",
       "      <td>Lisbon</td>\n",
       "      <td>United Kingdom</td>\n",
       "    </tr>\n",
       "    <tr>\n",
       "      <th>2</th>\n",
       "      <td>76</td>\n",
       "      <td>2009-12-10</td>\n",
       "      <td>Madrid</td>\n",
       "      <td>Switzerland</td>\n",
       "    </tr>\n",
       "    <tr>\n",
       "      <th>3</th>\n",
       "      <td>78</td>\n",
       "      <td>2013-02-11</td>\n",
       "      <td>Valletta</td>\n",
       "      <td>Germany</td>\n",
       "    </tr>\n",
       "    <tr>\n",
       "      <th>4</th>\n",
       "      <td>80</td>\n",
       "      <td>2009-09-10</td>\n",
       "      <td>Ljubljana</td>\n",
       "      <td>United Kingdom</td>\n",
       "    </tr>\n",
       "  </tbody>\n",
       "</table>\n",
       "</div>"
      ],
      "text/plain": [
       "   user_id first_booking first_destination    user_country\n",
       "0       74    2009-09-09            Munich         Germany\n",
       "1       75    2009-10-11            Lisbon  United Kingdom\n",
       "2       76    2009-12-10            Madrid     Switzerland\n",
       "3       78    2013-02-11          Valletta         Germany\n",
       "4       80    2009-09-10         Ljubljana  United Kingdom"
      ]
     },
     "execution_count": 130,
     "metadata": {},
     "output_type": "execute_result"
    }
   ],
   "source": [
    "#check outputs\n",
    "print 'Data Frame of ' + str(guests.shape[0]) + ' rows and ' + str(guests.shape[1]) + ' columns'\n",
    "guests.head()"
   ]
  },
  {
   "cell_type": "markdown",
   "metadata": {},
   "source": [
    "###Generate table of months"
   ]
  },
  {
   "cell_type": "code",
   "execution_count": 4,
   "metadata": {
    "collapsed": false,
    "scrolled": false
   },
   "outputs": [
    {
     "data": {
      "text/html": [
       "<div style=\"max-height:1000px;max-width:1500px;overflow:auto;\">\n",
       "<table border=\"1\" class=\"dataframe\">\n",
       "  <thead>\n",
       "    <tr style=\"text-align: right;\">\n",
       "      <th></th>\n",
       "      <th>month</th>\n",
       "    </tr>\n",
       "  </thead>\n",
       "  <tbody>\n",
       "    <tr>\n",
       "      <th>0</th>\n",
       "      <td>2009-09-01</td>\n",
       "    </tr>\n",
       "    <tr>\n",
       "      <th>1</th>\n",
       "      <td>2009-10-01</td>\n",
       "    </tr>\n",
       "    <tr>\n",
       "      <th>2</th>\n",
       "      <td>2009-11-01</td>\n",
       "    </tr>\n",
       "    <tr>\n",
       "      <th>3</th>\n",
       "      <td>2009-12-01</td>\n",
       "    </tr>\n",
       "    <tr>\n",
       "      <th>4</th>\n",
       "      <td>2010-01-01</td>\n",
       "    </tr>\n",
       "  </tbody>\n",
       "</table>\n",
       "</div>"
      ],
      "text/plain": [
       "       month\n",
       "0 2009-09-01\n",
       "1 2009-10-01\n",
       "2 2009-11-01\n",
       "3 2009-12-01\n",
       "4 2010-01-01"
      ]
     },
     "execution_count": 4,
     "metadata": {},
     "output_type": "execute_result"
    }
   ],
   "source": [
    "start = date(2009,9,1)\n",
    "end = date(2015,6,1)\n",
    "\n",
    "month = []\n",
    "\n",
    "while start < end:\n",
    "    month.append(start)\n",
    "    start += relativedelta(months=1)\n",
    "    \n",
    "months = pd.DataFrame(month)\n",
    "months.columns = ['month']\n",
    "months['month'] = pd.to_datetime(months['month']) #convert to date datatype \n",
    "months.head()"
   ]
  },
  {
   "cell_type": "markdown",
   "metadata": {},
   "source": [
    "###Loop over Users to create user_month data frame "
   ]
  },
  {
   "cell_type": "code",
   "execution_count": null,
   "metadata": {
    "collapsed": true
   },
   "outputs": [],
   "source": [
    "#create empty master data frame to append each users months to\n",
    "master_df = pd.DataFrame(columns = ['month', 'user_id'])\n",
    "master_df['month'] = pd.to_datetime(master_df['month'])\n",
    "master_df['user_id'] = master_df['user_id'].astype(int)"
   ]
  },
  {
   "cell_type": "code",
   "execution_count": null,
   "metadata": {
    "collapsed": true
   },
   "outputs": [],
   "source": [
    "#### The following loops over the guests and produces the months post their inital booking \n",
    "#### which are appended to the master data frame along with the user-id.\n",
    "\n",
    "for i in range(0, len(guests)):\n",
    "\n",
    "    the_guest = guests.iloc[i, 0]\n",
    "    first_booking_month = guests.iloc[i, 1]\n",
    "    the_months = months[(months['month'] > first_booking_month)]\n",
    "    user_df = pd.DataFrame(the_months)\n",
    "    user_df['user_id'] = the_guest\n",
    "        \n",
    "    master_df = pd.concat([master_df, user_df])\n",
    "        \n",
    "    if the_guest % 1000 == 0:\n",
    "        print(the_guest)\n"
   ]
  },
  {
   "cell_type": "code",
   "execution_count": 131,
   "metadata": {
    "collapsed": false
   },
   "outputs": [
    {
     "name": "stdout",
     "output_type": "stream",
     "text": [
      "Data Frame of 9792952 rows and 3 columns\n"
     ]
    }
   ],
   "source": [
    "#Check Outputs\n",
    "print 'Data Frame of ' + str(master_df.shape[0]) + ' rows and ' + str(master_df.shape[1]) + ' columns'"
   ]
  },
  {
   "cell_type": "code",
   "execution_count": 82,
   "metadata": {
    "collapsed": true
   },
   "outputs": [],
   "source": [
    "#save as csv in case of emergencies (long runtime)\n",
    "master_df.to_csv('user_month.csv', sep = ',')"
   ]
  },
  {
   "cell_type": "markdown",
   "metadata": {},
   "source": [
    "###Get Repeat Data"
   ]
  },
  {
   "cell_type": "code",
   "execution_count": 106,
   "metadata": {
    "collapsed": true
   },
   "outputs": [],
   "source": [
    "repeat_query = '''\n",
    "SELECT\n",
    "    DATE_ADD(accepted_date, INTERVAL - DAY(accepted_date) + 1 DAY) as month,\n",
    "    user_id\n",
    "FROM dw_bookings\n",
    "WHERE \n",
    "    repeat_type = 'repeat'\n",
    "    AND accepted_date < '2015-06-01'\n",
    "GROUP BY \n",
    "    DATE_ADD(accepted_date, INTERVAL - DAY(accepted_date) + 1 DAY),\n",
    "    user_id\n",
    "    '''\n",
    "\n",
    "repeats = pd.read_sql(repeat_query, con = con)\n",
    "repeats['month'] = pd.to_datetime(repeats['month'])\n",
    "repeats['user_id'] = repeats['user_id'].astype(int)\n",
    "\n",
    "master_df['user_id'] = master_df['user_id'].astype(int)"
   ]
  },
  {
   "cell_type": "markdown",
   "metadata": {},
   "source": [
    "###Add column of 1 or 0 to user_month based on whether they repeated in that month."
   ]
  },
  {
   "cell_type": "code",
   "execution_count": 124,
   "metadata": {
    "collapsed": true
   },
   "outputs": [],
   "source": [
    "repeat_update_query = '''\n",
    "SELECT\n",
    "m.month, \n",
    "m.user_id, \n",
    "CASE WHEN r.user_id IS NOT NULL THEN 1 ELSE 0 END as repeater\n",
    "FROM master_df m \n",
    "LEFT JOIN repeats r \n",
    "    ON m.month = r.month \n",
    "    AND m.user_id = r.user_id\n",
    "'''\n",
    "df = pysqldf(repeat_update_query)"
   ]
  },
  {
   "cell_type": "code",
   "execution_count": 125,
   "metadata": {
    "collapsed": false
   },
   "outputs": [
    {
     "data": {
      "text/html": [
       "<div style=\"max-height:1000px;max-width:1500px;overflow:auto;\">\n",
       "<table border=\"1\" class=\"dataframe\">\n",
       "  <thead>\n",
       "    <tr style=\"text-align: right;\">\n",
       "      <th></th>\n",
       "      <th>month</th>\n",
       "      <th>user_id</th>\n",
       "      <th>repeater</th>\n",
       "    </tr>\n",
       "  </thead>\n",
       "  <tbody>\n",
       "    <tr>\n",
       "      <th>0</th>\n",
       "      <td>2009-10-01</td>\n",
       "      <td>74</td>\n",
       "      <td>0</td>\n",
       "    </tr>\n",
       "    <tr>\n",
       "      <th>1</th>\n",
       "      <td>2009-11-01</td>\n",
       "      <td>74</td>\n",
       "      <td>1</td>\n",
       "    </tr>\n",
       "    <tr>\n",
       "      <th>2</th>\n",
       "      <td>2009-12-01</td>\n",
       "      <td>74</td>\n",
       "      <td>0</td>\n",
       "    </tr>\n",
       "    <tr>\n",
       "      <th>3</th>\n",
       "      <td>2010-01-01</td>\n",
       "      <td>74</td>\n",
       "      <td>0</td>\n",
       "    </tr>\n",
       "    <tr>\n",
       "      <th>4</th>\n",
       "      <td>2010-02-01</td>\n",
       "      <td>74</td>\n",
       "      <td>0</td>\n",
       "    </tr>\n",
       "  </tbody>\n",
       "</table>\n",
       "</div>"
      ],
      "text/plain": [
       "       month  user_id  repeater\n",
       "0 2009-10-01       74         0\n",
       "1 2009-11-01       74         1\n",
       "2 2009-12-01       74         0\n",
       "3 2010-01-01       74         0\n",
       "4 2010-02-01       74         0"
      ]
     },
     "execution_count": 125,
     "metadata": {},
     "output_type": "execute_result"
    }
   ],
   "source": [
    "df.head()"
   ]
  },
  {
   "cell_type": "markdown",
   "metadata": {},
   "source": [
    "###The main structure is in place, now to add some features.......\n",
    "####Features to add\n",
    "\n",
    "1. user country (aka fr, other_eu, row)\n",
    "2. initial destination\n",
    "3. months post initital booking\n",
    "4. post initial booking checkin\n",
    "5. nps\n",
    "6. months since last search (post booking acceptance).\n",
    "7. prior repeater\n",
    "8. google spend in that market (standardised)\n",
    "9. was TV on air in that market (binary)\n",
    "10. original marketing attribution\n",
    "11. "
   ]
  },
  {
   "cell_type": "markdown",
   "metadata": {},
   "source": [
    "###Add user country, initial destination and original booking date"
   ]
  },
  {
   "cell_type": "code",
   "execution_count": 136,
   "metadata": {
    "collapsed": false
   },
   "outputs": [
    {
     "data": {
      "text/html": [
       "<div style=\"max-height:1000px;max-width:1500px;overflow:auto;\">\n",
       "<table border=\"1\" class=\"dataframe\">\n",
       "  <thead>\n",
       "    <tr style=\"text-align: right;\">\n",
       "      <th></th>\n",
       "      <th>month</th>\n",
       "      <th>user_id</th>\n",
       "      <th>repeater</th>\n",
       "      <th>first_booking</th>\n",
       "      <th>first_destination</th>\n",
       "      <th>user_country</th>\n",
       "    </tr>\n",
       "  </thead>\n",
       "  <tbody>\n",
       "    <tr>\n",
       "      <th>0</th>\n",
       "      <td>2009-10-01</td>\n",
       "      <td>74</td>\n",
       "      <td>0</td>\n",
       "      <td>2009-09-09</td>\n",
       "      <td>Munich</td>\n",
       "      <td>Germany</td>\n",
       "    </tr>\n",
       "    <tr>\n",
       "      <th>1</th>\n",
       "      <td>2009-11-01</td>\n",
       "      <td>74</td>\n",
       "      <td>1</td>\n",
       "      <td>2009-09-09</td>\n",
       "      <td>Munich</td>\n",
       "      <td>Germany</td>\n",
       "    </tr>\n",
       "    <tr>\n",
       "      <th>2</th>\n",
       "      <td>2009-12-01</td>\n",
       "      <td>74</td>\n",
       "      <td>0</td>\n",
       "      <td>2009-09-09</td>\n",
       "      <td>Munich</td>\n",
       "      <td>Germany</td>\n",
       "    </tr>\n",
       "    <tr>\n",
       "      <th>3</th>\n",
       "      <td>2010-01-01</td>\n",
       "      <td>74</td>\n",
       "      <td>0</td>\n",
       "      <td>2009-09-09</td>\n",
       "      <td>Munich</td>\n",
       "      <td>Germany</td>\n",
       "    </tr>\n",
       "    <tr>\n",
       "      <th>4</th>\n",
       "      <td>2010-02-01</td>\n",
       "      <td>74</td>\n",
       "      <td>0</td>\n",
       "      <td>2009-09-09</td>\n",
       "      <td>Munich</td>\n",
       "      <td>Germany</td>\n",
       "    </tr>\n",
       "  </tbody>\n",
       "</table>\n",
       "</div>"
      ],
      "text/plain": [
       "       month  user_id  repeater first_booking first_destination user_country\n",
       "0 2009-10-01       74         0    2009-09-09            Munich      Germany\n",
       "1 2009-11-01       74         1    2009-09-09            Munich      Germany\n",
       "2 2009-12-01       74         0    2009-09-09            Munich      Germany\n",
       "3 2010-01-01       74         0    2009-09-09            Munich      Germany\n",
       "4 2010-02-01       74         0    2009-09-09            Munich      Germany"
      ]
     },
     "execution_count": 136,
     "metadata": {},
     "output_type": "execute_result"
    }
   ],
   "source": [
    "df = pd.merge(df, guests, on = 'user_id')\n",
    "df.head()"
   ]
  },
  {
   "cell_type": "markdown",
   "metadata": {},
   "source": [
    "### Create list of major countries"
   ]
  },
  {
   "cell_type": "code",
   "execution_count": 138,
   "metadata": {
    "collapsed": false
   },
   "outputs": [],
   "source": [
    "country_query = '''\n",
    "    SELECT\n",
    "        user_country,\n",
    "        count(1) as bookings\n",
    "    FROM dw_bookings\n",
    "    GROUP BY user_country\n",
    "    ORDER BY bookings DESC\n",
    "'''\n",
    "countries = pd.read_sql(country_query, con = con)"
   ]
  },
  {
   "cell_type": "code",
   "execution_count": null,
   "metadata": {
    "collapsed": true
   },
   "outputs": [],
   "source": [
    "#add column that assesses whether country has had > 1000 bookings, any that haven't are called row (rest of world)\n",
    "\n",
    "def maj_market(row):\n",
    "    if row['bookings'] >= 1000:\n",
    "        return row['user_country']\n",
    "    else:\n",
    "        return 'row'\n",
    "    \n",
    "countries['main_market'] = countries.apply(maj_market, axis=1)"
   ]
  },
  {
   "cell_type": "code",
   "execution_count": 141,
   "metadata": {
    "collapsed": false
   },
   "outputs": [],
   "source": [
    "countries = countries.drop('bookings', 1)"
   ]
  },
  {
   "cell_type": "code",
   "execution_count": 144,
   "metadata": {
    "collapsed": false
   },
   "outputs": [],
   "source": [
    "df = pd.merge(df, countries, on = 'user_country')"
   ]
  },
  {
   "cell_type": "markdown",
   "metadata": {},
   "source": [
    "###Read in adwords data"
   ]
  },
  {
   "cell_type": "code",
   "execution_count": 133,
   "metadata": {
    "collapsed": false
   },
   "outputs": [],
   "source": [
    "adwords = pd.read_csv('adwords.csv', sep = '\\t')\n",
    "adwords.columns = ['account', 'month', 'country', 'clicks', 'cost']\n",
    "#adwords.groupby('country').sum().sort('cost', ascending = False).head()"
   ]
  },
  {
   "cell_type": "code",
   "execution_count": 145,
   "metadata": {
    "collapsed": false
   },
   "outputs": [
    {
     "data": {
      "text/html": [
       "<div style=\"max-height:1000px;max-width:1500px;overflow:auto;\">\n",
       "<table border=\"1\" class=\"dataframe\">\n",
       "  <thead>\n",
       "    <tr style=\"text-align: right;\">\n",
       "      <th></th>\n",
       "      <th>month</th>\n",
       "      <th>user_id</th>\n",
       "      <th>repeater</th>\n",
       "      <th>first_booking</th>\n",
       "      <th>first_destination</th>\n",
       "      <th>user_country</th>\n",
       "      <th>main_market</th>\n",
       "    </tr>\n",
       "  </thead>\n",
       "  <tbody>\n",
       "    <tr>\n",
       "      <th>0</th>\n",
       "      <td>2009-10-01</td>\n",
       "      <td>74</td>\n",
       "      <td>0</td>\n",
       "      <td>2009-09-09</td>\n",
       "      <td>Munich</td>\n",
       "      <td>Germany</td>\n",
       "      <td>Germany</td>\n",
       "    </tr>\n",
       "    <tr>\n",
       "      <th>1</th>\n",
       "      <td>2009-11-01</td>\n",
       "      <td>74</td>\n",
       "      <td>1</td>\n",
       "      <td>2009-09-09</td>\n",
       "      <td>Munich</td>\n",
       "      <td>Germany</td>\n",
       "      <td>Germany</td>\n",
       "    </tr>\n",
       "    <tr>\n",
       "      <th>2</th>\n",
       "      <td>2009-12-01</td>\n",
       "      <td>74</td>\n",
       "      <td>0</td>\n",
       "      <td>2009-09-09</td>\n",
       "      <td>Munich</td>\n",
       "      <td>Germany</td>\n",
       "      <td>Germany</td>\n",
       "    </tr>\n",
       "    <tr>\n",
       "      <th>3</th>\n",
       "      <td>2010-01-01</td>\n",
       "      <td>74</td>\n",
       "      <td>0</td>\n",
       "      <td>2009-09-09</td>\n",
       "      <td>Munich</td>\n",
       "      <td>Germany</td>\n",
       "      <td>Germany</td>\n",
       "    </tr>\n",
       "    <tr>\n",
       "      <th>4</th>\n",
       "      <td>2010-02-01</td>\n",
       "      <td>74</td>\n",
       "      <td>0</td>\n",
       "      <td>2009-09-09</td>\n",
       "      <td>Munich</td>\n",
       "      <td>Germany</td>\n",
       "      <td>Germany</td>\n",
       "    </tr>\n",
       "  </tbody>\n",
       "</table>\n",
       "</div>"
      ],
      "text/plain": [
       "       month  user_id  repeater first_booking first_destination user_country  \\\n",
       "0 2009-10-01       74         0    2009-09-09            Munich      Germany   \n",
       "1 2009-11-01       74         1    2009-09-09            Munich      Germany   \n",
       "2 2009-12-01       74         0    2009-09-09            Munich      Germany   \n",
       "3 2010-01-01       74         0    2009-09-09            Munich      Germany   \n",
       "4 2010-02-01       74         0    2009-09-09            Munich      Germany   \n",
       "\n",
       "  main_market  \n",
       "0     Germany  \n",
       "1     Germany  \n",
       "2     Germany  \n",
       "3     Germany  \n",
       "4     Germany  "
      ]
     },
     "execution_count": 145,
     "metadata": {},
     "output_type": "execute_result"
    }
   ],
   "source": [
    "df.head()"
   ]
  },
  {
   "cell_type": "code",
   "execution_count": null,
   "metadata": {
    "collapsed": true
   },
   "outputs": [],
   "source": []
  }
 ],
 "metadata": {
  "kernelspec": {
   "display_name": "Python 2",
   "language": "python",
   "name": "python2"
  },
  "language_info": {
   "codemirror_mode": {
    "name": "ipython",
    "version": 2
   },
   "file_extension": ".py",
   "mimetype": "text/x-python",
   "name": "python",
   "nbconvert_exporter": "python",
   "pygments_lexer": "ipython2",
   "version": "2.7.10"
  }
 },
 "nbformat": 4,
 "nbformat_minor": 0
}
