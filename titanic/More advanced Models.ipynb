{
 "cells": [
  {
   "cell_type": "code",
   "execution_count": 49,
   "metadata": {
    "collapsed": true
   },
   "outputs": [],
   "source": [
    "import numpy as np\n",
    "import pandas as pd\n",
    "from sklearn import cross_validation, tree, metrics\n",
    "from sklearn.ensemble import RandomForestClassifier, AdaBoostClassifier, ExtraTreesClassifier\n",
    "from sklearn.metrics import accuracy_score\n",
    "from sklearn.linear_model import LogisticRegression\n",
    "from sklearn.ensemble.weight_boosting import AdaBoostClassifier\n",
    "from sklearn.externals.six.moves import xrange\n",
    "from sklearn.tree import DecisionTreeClassifier"
   ]
  },
  {
   "cell_type": "markdown",
   "metadata": {},
   "source": [
    "**Start by extracting a larger feature set**"
   ]
  },
  {
   "cell_type": "code",
   "execution_count": 29,
   "metadata": {
    "collapsed": true
   },
   "outputs": [],
   "source": [
    "dataset = pd.read_csv('proc_data.csv')\n",
    "dataset['id'] = dataset['id'].astype(int)"
   ]
  },
  {
   "cell_type": "code",
   "execution_count": 30,
   "metadata": {
    "collapsed": true
   },
   "outputs": [],
   "source": [
    "train = dataset.query('type == \"train\"')         \n",
    "test = dataset.query('type == \"test\"')  "
   ]
  },
  {
   "cell_type": "code",
   "execution_count": 32,
   "metadata": {
    "collapsed": true
   },
   "outputs": [],
   "source": [
    "X = train[['age', 'class', 'fare', 'family_size', 'embarked_at_Q', 'embarked_at_S', 'female', 'in_cabin', 'Master', 'Miss', 'Mrs', 'Rev']].values\n",
    "y = train['survived'].values"
   ]
  },
  {
   "cell_type": "code",
   "execution_count": 33,
   "metadata": {
    "collapsed": true
   },
   "outputs": [],
   "source": [
    "X_test = test[['age', 'class', 'fare', 'family_size', 'embarked_at_Q', 'embarked_at_S', 'female', 'in_cabin', 'Master', 'Miss', 'Mrs', 'Rev']].values\n",
    "test_ids = test['id']\n",
    "test_ids = pd.DataFrame(test_ids.reset_index()['id'])"
   ]
  },
  {
   "cell_type": "markdown",
   "metadata": {},
   "source": [
    "**Random Forrest**"
   ]
  },
  {
   "cell_type": "code",
   "execution_count": 36,
   "metadata": {
    "collapsed": false
   },
   "outputs": [
    {
     "name": "stdout",
     "output_type": "stream",
     "text": [
      "0.969696969697\n"
     ]
    }
   ],
   "source": [
    "rnd = RandomForestClassifier(n_estimators = 10)\n",
    "rnd.fit(X, y)\n",
    "y_predicted = rnd.predict(X)\n",
    "print accuracy_score(y, y_predicted)"
   ]
  },
  {
   "cell_type": "code",
   "execution_count": 37,
   "metadata": {
    "collapsed": false
   },
   "outputs": [],
   "source": [
    "y_test_predicted = rnd.predict(X_test)\n",
    "predictions = pd.DataFrame(y_test_predicted)\n",
    "submission = pd.concat([test_ids, predictions], axis=1)\n",
    "submission.columns = ['PassengerId', 'Survived']\n",
    "submission['Survived'] = submission['Survived'].astype(int)\n",
    "submission.to_csv('submission7.csv', sep = ',', index = False)"
   ]
  },
  {
   "cell_type": "markdown",
   "metadata": {},
   "source": [
    "**Logistic Regression**"
   ]
  },
  {
   "cell_type": "code",
   "execution_count": 75,
   "metadata": {
    "collapsed": false
   },
   "outputs": [
    {
     "data": {
      "text/plain": [
       "0.83713219148001772"
      ]
     },
     "execution_count": 75,
     "metadata": {},
     "output_type": "execute_result"
    }
   ],
   "source": [
    "log_reg = LogisticRegression(penalty = 'l1', C = 2)\n",
    "scores = cross_validation.cross_val_score(log_reg, X, y, cv=20)\n",
    "scores.mean()"
   ]
  },
  {
   "cell_type": "code",
   "execution_count": 64,
   "metadata": {
    "collapsed": true
   },
   "outputs": [],
   "source": [
    "log_reg = LogisticRegression(penalty = 'l1')\n",
    "log_reg.fit(X, y)\n",
    "y_test_predicted = log_reg.predict(X_test)\n",
    "predictions = pd.DataFrame(y_test_predicted)\n",
    "submission = pd.concat([test_ids, predictions], axis=1)\n",
    "submission.columns = ['PassengerId', 'Survived']\n",
    "submission['Survived'] = submission['Survived'].astype(int)\n",
    "submission.to_csv('submission8.csv', sep = ',', index = False)"
   ]
  },
  {
   "cell_type": "markdown",
   "metadata": {},
   "source": [
    "**Extra Trees Classifier**"
   ]
  },
  {
   "cell_type": "code",
   "execution_count": 53,
   "metadata": {
    "collapsed": false
   },
   "outputs": [
    {
     "name": "stdout",
     "output_type": "stream",
     "text": [
      "0.986531986532\n"
     ]
    }
   ],
   "source": [
    "ext = ExtraTreesClassifier(n_estimators=10)\n",
    "ext.fit(X, y)\n",
    "y_predicted = ext.predict(X)\n",
    "print accuracy_score(y, y_predicted)"
   ]
  },
  {
   "cell_type": "code",
   "execution_count": 54,
   "metadata": {
    "collapsed": true
   },
   "outputs": [],
   "source": [
    "y_test_predicted = ext.predict(X_test)\n",
    "predictions = pd.DataFrame(y_test_predicted)\n",
    "submission = pd.concat([test_ids, predictions], axis=1)\n",
    "submission.columns = ['PassengerId', 'Survived']\n",
    "submission['Survived'] = submission['Survived'].astype(int)\n",
    "submission.to_csv('submission9.csv', sep = ',', index = False)"
   ]
  },
  {
   "cell_type": "code",
   "execution_count": null,
   "metadata": {
    "collapsed": true
   },
   "outputs": [],
   "source": []
  }
 ],
 "metadata": {
  "kernelspec": {
   "display_name": "Python 2",
   "language": "python",
   "name": "python2"
  },
  "language_info": {
   "codemirror_mode": {
    "name": "ipython",
    "version": 2
   },
   "file_extension": ".py",
   "mimetype": "text/x-python",
   "name": "python",
   "nbconvert_exporter": "python",
   "pygments_lexer": "ipython2",
   "version": "2.7.10"
  }
 },
 "nbformat": 4,
 "nbformat_minor": 0
}
