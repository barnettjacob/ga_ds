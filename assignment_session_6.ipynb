{
 "cells": [
  {
   "cell_type": "code",
   "execution_count": 2,
   "metadata": {
    "collapsed": false
   },
   "outputs": [
    {
     "name": "stdout",
     "output_type": "stream",
     "text": [
      "Populating the interactive namespace from numpy and matplotlib\n"
     ]
    }
   ],
   "source": [
    "from __future__ import division, print_function\n",
    "import pandas as pd\n",
    "import numpy as np\n",
    "import matplotlib.pyplot as plt\n",
    "import statsmodels.api as sm\n",
    "%pylab inline"
   ]
  },
  {
   "cell_type": "markdown",
   "metadata": {},
   "source": [
    "#Mammals\n",
    "\n",
    "\n",
    "##Standard Linear Regression"
   ]
  },
  {
   "cell_type": "code",
   "execution_count": 3,
   "metadata": {
    "collapsed": false
   },
   "outputs": [
    {
     "name": "stdout",
     "output_type": "stream",
     "text": [
      "                            OLS Regression Results                            \n",
      "==============================================================================\n",
      "Dep. Variable:                      y   R-squared:                       0.873\n",
      "Model:                            OLS   Adj. R-squared:                  0.871\n",
      "Method:                 Least Squares   F-statistic:                     411.2\n",
      "Date:                Tue, 26 May 2015   Prob (F-statistic):           1.54e-28\n",
      "Time:                        18:50:52   Log-Likelihood:                -447.38\n",
      "No. Observations:                  62   AIC:                             898.8\n",
      "Df Residuals:                      60   BIC:                             903.0\n",
      "Df Model:                           1                                         \n",
      "==============================================================================\n",
      "                 coef    std err          t      P>|t|      [95.0% Conf. Int.]\n",
      "------------------------------------------------------------------------------\n",
      "const         91.0044     43.553      2.090      0.041         3.886   178.123\n",
      "x1             0.9665      0.048     20.278      0.000         0.871     1.062\n",
      "==============================================================================\n",
      "Omnibus:                       92.942   Durbin-Watson:                   2.339\n",
      "Prob(Omnibus):                  0.000   Jarque-Bera (JB):             1738.656\n",
      "Skew:                           4.382   Prob(JB):                         0.00\n",
      "Kurtosis:                      27.417   Cond. No.                         936.\n",
      "==============================================================================\n"
     ]
    }
   ],
   "source": [
    "mammals = pd.read_csv(\"mammals.csv\")\n",
    "\n",
    "#Convert df columns to arrays\n",
    "body = mammals['body'].values\n",
    "brain = mammals['brain'].values\n",
    "\n",
    "#Add column of 1s to body for intercept\n",
    "body = sm.add_constant(body)\n",
    "\n",
    "#Initialise Model\n",
    "regression = sm.OLS(brain, body)\n",
    "\n",
    "#Fit model\n",
    "results = regression.fit()\n",
    "\n",
    "print(results.summary())"
   ]
  },
  {
   "cell_type": "markdown",
   "metadata": {},
   "source": [
    "##Linear Regression w/Log Transformation"
   ]
  },
  {
   "cell_type": "code",
   "execution_count": 4,
   "metadata": {
    "collapsed": false
   },
   "outputs": [
    {
     "name": "stdout",
     "output_type": "stream",
     "text": [
      "                            OLS Regression Results                            \n",
      "==============================================================================\n",
      "Dep. Variable:                      y   R-squared:                       0.921\n",
      "Model:                            OLS   Adj. R-squared:                  0.919\n",
      "Method:                 Least Squares   F-statistic:                     697.4\n",
      "Date:                Tue, 26 May 2015   Prob (F-statistic):           9.84e-35\n",
      "Time:                        18:50:52   Log-Likelihood:                -64.336\n",
      "No. Observations:                  62   AIC:                             132.7\n",
      "Df Residuals:                      60   BIC:                             136.9\n",
      "Df Model:                           1                                         \n",
      "==============================================================================\n",
      "                 coef    std err          t      P>|t|      [95.0% Conf. Int.]\n",
      "------------------------------------------------------------------------------\n",
      "const          2.1348      0.096     22.227      0.000         1.943     2.327\n",
      "x1             0.7517      0.028     26.409      0.000         0.695     0.809\n",
      "==============================================================================\n",
      "Omnibus:                        2.698   Durbin-Watson:                   1.980\n",
      "Prob(Omnibus):                  0.260   Jarque-Bera (JB):                1.933\n",
      "Skew:                           0.405   Prob(JB):                        0.380\n",
      "Kurtosis:                       3.301   Cond. No.                         3.73\n",
      "==============================================================================\n"
     ]
    }
   ],
   "source": [
    "#Create new arrays using log of brain and body values\n",
    "body_log = np.log(mammals['body'].values)\n",
    "brain_log = np.log(mammals['brain'].values)\n",
    "body_log = sm.add_constant(body_log)\n",
    "\n",
    "\n",
    "#Initialise Model\n",
    "regression_log = sm.OLS(brain_log, body_log)\n",
    "\n",
    "#Fit model\n",
    "results_log = regression_log.fit()\n",
    "\n",
    "print(results_log.summary())"
   ]
  },
  {
   "cell_type": "markdown",
   "metadata": {},
   "source": [
    "####Using the log of body and brain significantly improves the R2 of the model."
   ]
  },
  {
   "cell_type": "markdown",
   "metadata": {},
   "source": [
    "#Blood Pressure Prediction"
   ]
  },
  {
   "cell_type": "code",
   "execution_count": 5,
   "metadata": {
    "collapsed": false
   },
   "outputs": [],
   "source": [
    "# read in data and give columns sensible names\n",
    "blood_pressure = pd.read_csv(\"x03.csv\", header=None, delimiter=r\"\\s+\")\n",
    "blood_pressure.columns = ['ind', 'const', 'age', 'sbp']\n",
    "#blood_pressure"
   ]
  },
  {
   "cell_type": "code",
   "execution_count": 6,
   "metadata": {
    "collapsed": false
   },
   "outputs": [
    {
     "name": "stdout",
     "output_type": "stream",
     "text": [
      "                            OLS Regression Results                            \n",
      "==============================================================================\n",
      "Dep. Variable:                      y   R-squared:                       0.432\n",
      "Model:                            OLS   Adj. R-squared:                  0.412\n",
      "Method:                 Least Squares   F-statistic:                     21.33\n",
      "Date:                Tue, 26 May 2015   Prob (F-statistic):           7.87e-05\n",
      "Time:                        18:50:54   Log-Likelihood:                -127.08\n",
      "No. Observations:                  30   AIC:                             258.2\n",
      "Df Residuals:                      28   BIC:                             261.0\n",
      "Df Model:                           1                                         \n",
      "==============================================================================\n",
      "                 coef    std err          t      P>|t|      [95.0% Conf. Int.]\n",
      "------------------------------------------------------------------------------\n",
      "const         98.7147     10.000      9.871      0.000        78.230   119.200\n",
      "x1             0.9709      0.210      4.618      0.000         0.540     1.401\n",
      "==============================================================================\n",
      "Omnibus:                       44.037   Durbin-Watson:                   1.692\n",
      "Prob(Omnibus):                  0.000   Jarque-Bera (JB):              200.607\n",
      "Skew:                           2.914   Prob(JB):                     2.75e-44\n",
      "Kurtosis:                      14.248   Cond. No.                         151.\n",
      "==============================================================================\n"
     ]
    }
   ],
   "source": [
    "#Convert df columns to arrays\n",
    "age = blood_pressure[['const', 'age']].values\n",
    "sbp = blood_pressure['sbp'].values\n",
    "\n",
    "#Initialise Model\n",
    "bp_regression = sm.OLS(sbp, age)\n",
    "\n",
    "#Fit model\n",
    "bp_results = bp_regression.fit()\n",
    "\n",
    "print(bp_results.summary())"
   ]
  },
  {
   "cell_type": "markdown",
   "metadata": {},
   "source": [
    "####Model appears to have poor predictive power however a little investigation suggests that a large part of this is down to a single outlier:"
   ]
  },
  {
   "cell_type": "code",
   "execution_count": 7,
   "metadata": {
    "collapsed": false
   },
   "outputs": [
    {
     "data": {
      "image/png": "[encoded data removed]",
      "text/plain": [
       "<matplotlib.figure.Figure at 0x10b550450>"
      ]
     },
     "metadata": {},
     "output_type": "display_data"
    }
   ],
   "source": [
    "plt.scatter(blood_pressure['age'],blood_pressure['sbp'])\n",
    "plt.show()"
   ]
  },
  {
   "cell_type": "markdown",
   "metadata": {},
   "source": [
    "####Removing observations with a Systolic Blood Pressure over 200 helps"
   ]
  },
  {
   "cell_type": "code",
   "execution_count": 8,
   "metadata": {
    "collapsed": false
   },
   "outputs": [
    {
     "data": {
      "image/png": "[encoded data removed]",
      "text/plain": [
       "<matplotlib.figure.Figure at 0x10c048d50>"
      ]
     },
     "metadata": {},
     "output_type": "display_data"
    }
   ],
   "source": [
    "blood_pressure_adj = blood_pressure[blood_pressure['sbp'] < 200]\n",
    "plt.scatter(blood_pressure_adj['age'],blood_pressure_adj['sbp'])\n",
    "plt.show()"
   ]
  },
  {
   "cell_type": "markdown",
   "metadata": {},
   "source": [
    "####The adjusted data suggests that age is a better predictor of blood pressure than it had previously appeared."
   ]
  },
  {
   "cell_type": "code",
   "execution_count": 9,
   "metadata": {
    "collapsed": false
   },
   "outputs": [
    {
     "name": "stdout",
     "output_type": "stream",
     "text": [
      "                            OLS Regression Results                            \n",
      "==============================================================================\n",
      "Dep. Variable:                      y   R-squared:                       0.712\n",
      "Model:                            OLS   Adj. R-squared:                  0.702\n",
      "Method:                 Least Squares   F-statistic:                     66.81\n",
      "Date:                Tue, 26 May 2015   Prob (F-statistic):           8.88e-09\n",
      "Time:                        18:50:57   Log-Likelihood:                -105.59\n",
      "No. Observations:                  29   AIC:                             215.2\n",
      "Df Residuals:                      27   BIC:                             217.9\n",
      "Df Model:                           1                                         \n",
      "==============================================================================\n",
      "                 coef    std err          t      P>|t|      [95.0% Conf. Int.]\n",
      "------------------------------------------------------------------------------\n",
      "const         97.0771      5.528     17.562      0.000        85.735   108.419\n",
      "x1             0.9493      0.116      8.174      0.000         0.711     1.188\n",
      "==============================================================================\n",
      "Omnibus:                        0.192   Durbin-Watson:                   1.331\n",
      "Prob(Omnibus):                  0.908   Jarque-Bera (JB):                0.277\n",
      "Skew:                          -0.170   Prob(JB):                        0.871\n",
      "Kurtosis:                       2.663   Cond. No.                         148.\n",
      "==============================================================================\n"
     ]
    }
   ],
   "source": [
    "#Convert df columns to arrays\n",
    "age_adj = blood_pressure_adj[['const', 'age']].values\n",
    "sbp_adj = blood_pressure_adj['sbp'].values\n",
    "\n",
    "#Initialise Model\n",
    "bp_regression_adj = sm.OLS(sbp_adj, age_adj)\n",
    "\n",
    "#Fit model\n",
    "bp_results_adj = bp_regression_adj.fit()\n",
    "\n",
    "print(bp_results_adj.summary())"
   ]
  },
  {
   "cell_type": "code",
   "execution_count": null,
   "metadata": {
    "collapsed": true
   },
   "outputs": [],
   "source": []
  }
 ],
 "metadata": {
  "kernelspec": {
   "display_name": "Python 2",
   "language": "python",
   "name": "python2"
  },
  "language_info": {
   "codemirror_mode": {
    "name": "ipython",
    "version": 2
   },
   "file_extension": ".py",
   "mimetype": "text/x-python",
   "name": "python",
   "nbconvert_exporter": "python",
   "pygments_lexer": "ipython2",
   "version": "2.7.9"
  }
 },
 "nbformat": 4,
 "nbformat_minor": 0
}
