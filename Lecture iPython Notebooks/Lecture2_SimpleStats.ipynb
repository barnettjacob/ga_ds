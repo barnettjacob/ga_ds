{
 "cells": [
  {
   "cell_type": "markdown",
   "metadata": {
    "collapsed": false
   },
   "source": [
    "# Calculating some simple stats in Python"
   ]
  },
  {
   "cell_type": "raw",
   "metadata": {},
   "source": [
    "Let us import some libraries that enable us to make the calculations a bit easier"
   ]
  },
  {
   "cell_type": "code",
   "execution_count": 2,
   "metadata": {
    "collapsed": false
   },
   "outputs": [],
   "source": [
    "import numpy as np\n",
    "from scipy import stats"
   ]
  },
  {
   "cell_type": "code",
   "execution_count": 3,
   "metadata": {
    "collapsed": false
   },
   "outputs": [],
   "source": [
    "ds_dunuts1 = np.array([165 \n",
    ",213\n",
    ",189\n",
    ",187\n",
    ",165\n",
    ",148\n",
    ",251\n",
    ",308\n",
    ",151\n",
    ",132\n",
    ",199\n",
    ",227])"
   ]
  },
  {
   "cell_type": "code",
   "execution_count": 4,
   "metadata": {
    "collapsed": false
   },
   "outputs": [
    {
     "name": "stdout",
     "output_type": "stream",
     "text": [
      "0 165\n",
      "1 213\n",
      "2 189\n",
      "3 187\n",
      "4 165\n",
      "5 148\n",
      "6 251\n",
      "7 308\n",
      "8 151\n",
      "9 132\n",
      "10 199\n",
      "11 227\n"
     ]
    }
   ],
   "source": [
    "for (i, element) in enumerate(ds_dunuts1):\n",
    "    print i, element"
   ]
  },
  {
   "cell_type": "code",
   "execution_count": 5,
   "metadata": {
    "collapsed": false
   },
   "outputs": [
    {
     "data": {
      "text/plain": [
       "194.58333333333334"
      ]
     },
     "execution_count": 5,
     "metadata": {},
     "output_type": "execute_result"
    }
   ],
   "source": [
    "mysum = 0 \n",
    "for element in ds_dunuts1:\n",
    "    mysum += element\n",
    "myaverage = mysum / (len(ds_dunuts1) + 0.0)\n",
    "myaverage"
   ]
  },
  {
   "cell_type": "code",
   "execution_count": 6,
   "metadata": {
    "collapsed": false
   },
   "outputs": [
    {
     "data": {
      "text/plain": [
       "194.58333333333334"
      ]
     },
     "execution_count": 6,
     "metadata": {},
     "output_type": "execute_result"
    }
   ],
   "source": [
    "sum(ds_dunuts1)/(len(ds_dunuts1)+0.0)"
   ]
  },
  {
   "cell_type": "code",
   "execution_count": 7,
   "metadata": {
    "collapsed": false
   },
   "outputs": [
    {
     "data": {
      "text/plain": [
       "array([165, 213, 189, 187, 165, 148, 251, 308, 151, 132, 199, 227])"
      ]
     },
     "execution_count": 7,
     "metadata": {},
     "output_type": "execute_result"
    }
   ],
   "source": [
    "ds_dunuts1"
   ]
  },
  {
   "cell_type": "code",
   "execution_count": 8,
   "metadata": {
    "collapsed": false
   },
   "outputs": [
    {
     "data": {
      "text/plain": [
       "194.58333333333334"
      ]
     },
     "execution_count": 8,
     "metadata": {},
     "output_type": "execute_result"
    }
   ],
   "source": [
    "mu1 = np.mean(ds_dunuts1)\n",
    "mu1"
   ]
  },
  {
   "cell_type": "code",
   "execution_count": 9,
   "metadata": {
    "collapsed": true
   },
   "outputs": [],
   "source": [
    "ds_dunuts2 = np.array([165\n",
    ",213\n",
    ",410\n",
    ",610\n",
    ",165\n",
    ",148\n",
    ",251\n",
    ",308\n",
    ",151\n",
    ",132\n",
    ",199\n",
    ",227])"
   ]
  },
  {
   "cell_type": "code",
   "execution_count": 10,
   "metadata": {
    "collapsed": false
   },
   "outputs": [
    {
     "data": {
      "text/plain": [
       "248.25"
      ]
     },
     "execution_count": 10,
     "metadata": {},
     "output_type": "execute_result"
    }
   ],
   "source": [
    "mu2 = np.mean(ds_dunuts2)\n",
    "mu2"
   ]
  },
  {
   "cell_type": "code",
   "execution_count": 11,
   "metadata": {
    "collapsed": false
   },
   "outputs": [
    {
     "name": "stdout",
     "output_type": "stream",
     "text": [
      "188.0\n",
      "206.0\n"
     ]
    }
   ],
   "source": [
    "median1 = np.median(ds_dunuts1)\n",
    "median2 = np.median(ds_dunuts2)\n",
    "print median1\n",
    "print median2"
   ]
  },
  {
   "cell_type": "code",
   "execution_count": 12,
   "metadata": {
    "collapsed": true
   },
   "outputs": [],
   "source": [
    "from scipy import stats"
   ]
  },
  {
   "cell_type": "code",
   "execution_count": 13,
   "metadata": {
    "collapsed": false
   },
   "outputs": [
    {
     "data": {
      "text/plain": [
       "(array([165]), array([ 2.]))"
      ]
     },
     "execution_count": 13,
     "metadata": {},
     "output_type": "execute_result"
    }
   ],
   "source": [
    "stats.mode(ds_dunuts1)"
   ]
  },
  {
   "cell_type": "code",
   "execution_count": 14,
   "metadata": {
    "collapsed": false
   },
   "outputs": [
    {
     "data": {
      "text/plain": [
       "(array([165]), array([ 2.]))"
      ]
     },
     "execution_count": 14,
     "metadata": {},
     "output_type": "execute_result"
    }
   ],
   "source": [
    "stats.mode(ds_dunuts2)"
   ]
  },
  {
   "cell_type": "code",
   "execution_count": 15,
   "metadata": {
    "collapsed": false
   },
   "outputs": [
    {
     "data": {
      "text/plain": [
       "47.68028651573124"
      ]
     },
     "execution_count": 15,
     "metadata": {},
     "output_type": "execute_result"
    }
   ],
   "source": [
    "np.std(ds_dunuts1)"
   ]
  },
  {
   "cell_type": "code",
   "execution_count": 16,
   "metadata": {
    "collapsed": false
   },
   "outputs": [
    {
     "data": {
      "text/plain": [
       "132.79252300738423"
      ]
     },
     "execution_count": 16,
     "metadata": {},
     "output_type": "execute_result"
    }
   ],
   "source": [
    "np.std(ds_dunuts2)"
   ]
  },
  {
   "cell_type": "markdown",
   "metadata": {},
   "source": [
    "# Using Pandas"
   ]
  },
  {
   "cell_type": "code",
   "execution_count": 17,
   "metadata": {
    "collapsed": false
   },
   "outputs": [
    {
     "data": {
      "text/html": [
       "<div style=\"max-height:1000px;max-width:1500px;overflow:auto;\">\n",
       "<table border=\"1\" class=\"dataframe\">\n",
       "  <thead>\n",
       "    <tr style=\"text-align: right;\">\n",
       "      <th></th>\n",
       "      <th>Data Scientist</th>\n",
       "      <th>Weight</th>\n",
       "    </tr>\n",
       "  </thead>\n",
       "  <tbody>\n",
       "    <tr>\n",
       "      <th>0</th>\n",
       "      <td>Schmuggles</td>\n",
       "      <td>165</td>\n",
       "    </tr>\n",
       "    <tr>\n",
       "      <th>1</th>\n",
       "      <td>Bopsey</td>\n",
       "      <td>213</td>\n",
       "    </tr>\n",
       "    <tr>\n",
       "      <th>2</th>\n",
       "      <td>Pallitto</td>\n",
       "      <td>189</td>\n",
       "    </tr>\n",
       "    <tr>\n",
       "      <th>3</th>\n",
       "      <td>Homer</td>\n",
       "      <td>187</td>\n",
       "    </tr>\n",
       "    <tr>\n",
       "      <th>4</th>\n",
       "      <td>Schnickerson</td>\n",
       "      <td>165</td>\n",
       "    </tr>\n",
       "    <tr>\n",
       "      <th>5</th>\n",
       "      <td>Levin</td>\n",
       "      <td>148</td>\n",
       "    </tr>\n",
       "    <tr>\n",
       "      <th>6</th>\n",
       "      <td>Honkey-Doorey</td>\n",
       "      <td>251</td>\n",
       "    </tr>\n",
       "    <tr>\n",
       "      <th>7</th>\n",
       "      <td>Zingers</td>\n",
       "      <td>308</td>\n",
       "    </tr>\n",
       "    <tr>\n",
       "      <th>8</th>\n",
       "      <td>Boehmer</td>\n",
       "      <td>151</td>\n",
       "    </tr>\n",
       "    <tr>\n",
       "      <th>9</th>\n",
       "      <td>Queenie</td>\n",
       "      <td>132</td>\n",
       "    </tr>\n",
       "    <tr>\n",
       "      <th>10</th>\n",
       "      <td>Googles-Boop</td>\n",
       "      <td>199</td>\n",
       "    </tr>\n",
       "    <tr>\n",
       "      <th>11</th>\n",
       "      <td>Calzone</td>\n",
       "      <td>227</td>\n",
       "    </tr>\n",
       "  </tbody>\n",
       "</table>\n",
       "</div>"
      ],
      "text/plain": [
       "   Data Scientist  Weight\n",
       "0      Schmuggles     165\n",
       "1          Bopsey     213\n",
       "2        Pallitto     189\n",
       "3           Homer     187\n",
       "4    Schnickerson     165\n",
       "5           Levin     148\n",
       "6   Honkey-Doorey     251\n",
       "7         Zingers     308\n",
       "8         Boehmer     151\n",
       "9         Queenie     132\n",
       "10   Googles-Boop     199\n",
       "11        Calzone     227"
      ]
     },
     "execution_count": 17,
     "metadata": {},
     "output_type": "execute_result"
    }
   ],
   "source": [
    "import pandas as pd\n",
    "df1 = pd.read_csv('DSDunuts1.csv')\n",
    "df1"
   ]
  },
  {
   "cell_type": "code",
   "execution_count": 18,
   "metadata": {
    "collapsed": false
   },
   "outputs": [
    {
     "data": {
      "text/plain": [
       "count     12.000000\n",
       "mean     194.583333\n",
       "std       49.800435\n",
       "min      132.000000\n",
       "25%      161.500000\n",
       "50%      188.000000\n",
       "75%      216.500000\n",
       "max      308.000000\n",
       "Name: Weight, dtype: float64"
      ]
     },
     "execution_count": 18,
     "metadata": {},
     "output_type": "execute_result"
    }
   ],
   "source": [
    "df1['Weight'].describe()"
   ]
  },
  {
   "cell_type": "code",
   "execution_count": 19,
   "metadata": {
    "collapsed": false
   },
   "outputs": [
    {
     "name": "stdout",
     "output_type": "stream",
     "text": [
      "   Data Scientist  Weight\n",
      "0      Schmuggles     165\n",
      "1          Bopsey     213\n",
      "2        Pallitto     410\n",
      "3           Homer     610\n",
      "4    Schnickerson     165\n",
      "5           Levin     148\n",
      "6   Honkey-Doorey     251\n",
      "7         Zingers     308\n",
      "8         Boehmer     151\n",
      "9         Queenie     132\n",
      "10   Googles-Boop     199\n",
      "11        Calzone     227\n",
      "count     12.000000\n",
      "mean     248.250000\n",
      "std      138.697267\n",
      "min      132.000000\n",
      "25%      161.500000\n",
      "50%      206.000000\n",
      "75%      265.250000\n",
      "max      610.000000\n",
      "Name: Weight, dtype: float64\n",
      "248.25\n"
     ]
    }
   ],
   "source": [
    "# Loading the second set\n",
    "df2 = pd.read_csv('DSDunuts2.csv')\n",
    "print df2\n",
    "print df2['Weight'].describe()\n",
    "print df2['Weight'].mean()"
   ]
  },
  {
   "cell_type": "code",
   "execution_count": 20,
   "metadata": {
    "collapsed": false
   },
   "outputs": [
    {
     "data": {
      "text/plain": [
       "pandas.core.frame.DataFrame"
      ]
     },
     "execution_count": 20,
     "metadata": {},
     "output_type": "execute_result"
    }
   ],
   "source": [
    "type(df1)"
   ]
  },
  {
   "cell_type": "code",
   "execution_count": 21,
   "metadata": {
    "collapsed": true
   },
   "outputs": [],
   "source": [
    "df1['New Column']=np.arange(0,12)"
   ]
  },
  {
   "cell_type": "code",
   "execution_count": 22,
   "metadata": {
    "collapsed": false
   },
   "outputs": [
    {
     "data": {
      "text/html": [
       "<div style=\"max-height:1000px;max-width:1500px;overflow:auto;\">\n",
       "<table border=\"1\" class=\"dataframe\">\n",
       "  <thead>\n",
       "    <tr style=\"text-align: right;\">\n",
       "      <th></th>\n",
       "      <th>Data Scientist</th>\n",
       "      <th>Weight</th>\n",
       "      <th>New Column</th>\n",
       "    </tr>\n",
       "  </thead>\n",
       "  <tbody>\n",
       "    <tr>\n",
       "      <th>0</th>\n",
       "      <td>Schmuggles</td>\n",
       "      <td>165</td>\n",
       "      <td>0</td>\n",
       "    </tr>\n",
       "    <tr>\n",
       "      <th>1</th>\n",
       "      <td>Bopsey</td>\n",
       "      <td>213</td>\n",
       "      <td>1</td>\n",
       "    </tr>\n",
       "    <tr>\n",
       "      <th>2</th>\n",
       "      <td>Pallitto</td>\n",
       "      <td>189</td>\n",
       "      <td>2</td>\n",
       "    </tr>\n",
       "    <tr>\n",
       "      <th>3</th>\n",
       "      <td>Homer</td>\n",
       "      <td>187</td>\n",
       "      <td>3</td>\n",
       "    </tr>\n",
       "    <tr>\n",
       "      <th>4</th>\n",
       "      <td>Schnickerson</td>\n",
       "      <td>165</td>\n",
       "      <td>4</td>\n",
       "    </tr>\n",
       "    <tr>\n",
       "      <th>5</th>\n",
       "      <td>Levin</td>\n",
       "      <td>148</td>\n",
       "      <td>5</td>\n",
       "    </tr>\n",
       "    <tr>\n",
       "      <th>6</th>\n",
       "      <td>Honkey-Doorey</td>\n",
       "      <td>251</td>\n",
       "      <td>6</td>\n",
       "    </tr>\n",
       "    <tr>\n",
       "      <th>7</th>\n",
       "      <td>Zingers</td>\n",
       "      <td>308</td>\n",
       "      <td>7</td>\n",
       "    </tr>\n",
       "    <tr>\n",
       "      <th>8</th>\n",
       "      <td>Boehmer</td>\n",
       "      <td>151</td>\n",
       "      <td>8</td>\n",
       "    </tr>\n",
       "    <tr>\n",
       "      <th>9</th>\n",
       "      <td>Queenie</td>\n",
       "      <td>132</td>\n",
       "      <td>9</td>\n",
       "    </tr>\n",
       "    <tr>\n",
       "      <th>10</th>\n",
       "      <td>Googles-Boop</td>\n",
       "      <td>199</td>\n",
       "      <td>10</td>\n",
       "    </tr>\n",
       "    <tr>\n",
       "      <th>11</th>\n",
       "      <td>Calzone</td>\n",
       "      <td>227</td>\n",
       "      <td>11</td>\n",
       "    </tr>\n",
       "  </tbody>\n",
       "</table>\n",
       "</div>"
      ],
      "text/plain": [
       "   Data Scientist  Weight  New Column\n",
       "0      Schmuggles     165           0\n",
       "1          Bopsey     213           1\n",
       "2        Pallitto     189           2\n",
       "3           Homer     187           3\n",
       "4    Schnickerson     165           4\n",
       "5           Levin     148           5\n",
       "6   Honkey-Doorey     251           6\n",
       "7         Zingers     308           7\n",
       "8         Boehmer     151           8\n",
       "9         Queenie     132           9\n",
       "10   Googles-Boop     199          10\n",
       "11        Calzone     227          11"
      ]
     },
     "execution_count": 22,
     "metadata": {},
     "output_type": "execute_result"
    }
   ],
   "source": [
    "df1"
   ]
  },
  {
   "cell_type": "code",
   "execution_count": 23,
   "metadata": {
    "collapsed": false
   },
   "outputs": [
    {
     "data": {
      "text/html": [
       "<div style=\"max-height:1000px;max-width:1500px;overflow:auto;\">\n",
       "<table border=\"1\" class=\"dataframe\">\n",
       "  <thead>\n",
       "    <tr style=\"text-align: right;\">\n",
       "      <th></th>\n",
       "      <th>Data Scientist</th>\n",
       "      <th>Weight</th>\n",
       "      <th>New Column</th>\n",
       "      <th>Tom Column</th>\n",
       "    </tr>\n",
       "  </thead>\n",
       "  <tbody>\n",
       "    <tr>\n",
       "      <th>0</th>\n",
       "      <td>Schmuggles</td>\n",
       "      <td>165</td>\n",
       "      <td>0</td>\n",
       "      <td>0</td>\n",
       "    </tr>\n",
       "    <tr>\n",
       "      <th>1</th>\n",
       "      <td>Bopsey</td>\n",
       "      <td>213</td>\n",
       "      <td>1</td>\n",
       "      <td>0</td>\n",
       "    </tr>\n",
       "    <tr>\n",
       "      <th>2</th>\n",
       "      <td>Pallitto</td>\n",
       "      <td>189</td>\n",
       "      <td>2</td>\n",
       "      <td>0</td>\n",
       "    </tr>\n",
       "    <tr>\n",
       "      <th>3</th>\n",
       "      <td>Homer</td>\n",
       "      <td>187</td>\n",
       "      <td>3</td>\n",
       "      <td>0</td>\n",
       "    </tr>\n",
       "    <tr>\n",
       "      <th>4</th>\n",
       "      <td>Schnickerson</td>\n",
       "      <td>165</td>\n",
       "      <td>4</td>\n",
       "      <td>0</td>\n",
       "    </tr>\n",
       "    <tr>\n",
       "      <th>5</th>\n",
       "      <td>Levin</td>\n",
       "      <td>148</td>\n",
       "      <td>5</td>\n",
       "      <td>0</td>\n",
       "    </tr>\n",
       "    <tr>\n",
       "      <th>6</th>\n",
       "      <td>Honkey-Doorey</td>\n",
       "      <td>251</td>\n",
       "      <td>6</td>\n",
       "      <td>0</td>\n",
       "    </tr>\n",
       "    <tr>\n",
       "      <th>7</th>\n",
       "      <td>Zingers</td>\n",
       "      <td>308</td>\n",
       "      <td>7</td>\n",
       "      <td>0</td>\n",
       "    </tr>\n",
       "    <tr>\n",
       "      <th>8</th>\n",
       "      <td>Boehmer</td>\n",
       "      <td>151</td>\n",
       "      <td>8</td>\n",
       "      <td>0</td>\n",
       "    </tr>\n",
       "    <tr>\n",
       "      <th>9</th>\n",
       "      <td>Queenie</td>\n",
       "      <td>132</td>\n",
       "      <td>9</td>\n",
       "      <td>0</td>\n",
       "    </tr>\n",
       "    <tr>\n",
       "      <th>10</th>\n",
       "      <td>Googles-Boop</td>\n",
       "      <td>199</td>\n",
       "      <td>10</td>\n",
       "      <td>0</td>\n",
       "    </tr>\n",
       "    <tr>\n",
       "      <th>11</th>\n",
       "      <td>Calzone</td>\n",
       "      <td>227</td>\n",
       "      <td>11</td>\n",
       "      <td>0</td>\n",
       "    </tr>\n",
       "  </tbody>\n",
       "</table>\n",
       "</div>"
      ],
      "text/plain": [
       "   Data Scientist  Weight  New Column  Tom Column\n",
       "0      Schmuggles     165           0           0\n",
       "1          Bopsey     213           1           0\n",
       "2        Pallitto     189           2           0\n",
       "3           Homer     187           3           0\n",
       "4    Schnickerson     165           4           0\n",
       "5           Levin     148           5           0\n",
       "6   Honkey-Doorey     251           6           0\n",
       "7         Zingers     308           7           0\n",
       "8         Boehmer     151           8           0\n",
       "9         Queenie     132           9           0\n",
       "10   Googles-Boop     199          10           0\n",
       "11        Calzone     227          11           0"
      ]
     },
     "execution_count": 23,
     "metadata": {},
     "output_type": "execute_result"
    }
   ],
   "source": [
    "df1['Tom Column']=0\n",
    "df1"
   ]
  },
  {
   "cell_type": "markdown",
   "metadata": {},
   "source": [
    "# Summarising data with PANDAS"
   ]
  },
  {
   "cell_type": "raw",
   "metadata": {},
   "source": [
    "As an example, let's take a look at some data produced by several groups in Ben Kerr's Experimental Evolutionary Ecology class. This data set contains the fitness of a flocculated strain of Escherichia coli relative to a non-floculated strain when grown alone in either spatially-structured (dish) or spatially-unstructured (tube) environments."
   ]
  },
  {
   "cell_type": "code",
   "execution_count": 20,
   "metadata": {
    "collapsed": false
   },
   "outputs": [
    {
     "data": {
      "text/html": [
       "<div style=\"max-height:1000px;max-width:1500px;overflow:auto;\">\n",
       "<table border=\"1\" class=\"dataframe\">\n",
       "  <thead>\n",
       "    <tr style=\"text-align: right;\">\n",
       "      <th></th>\n",
       "      <th>Group</th>\n",
       "      <th>Treatment</th>\n",
       "      <th>Replicate</th>\n",
       "      <th>RelativeFitness</th>\n",
       "    </tr>\n",
       "  </thead>\n",
       "  <tbody>\n",
       "    <tr>\n",
       "      <th>0</th>\n",
       "      <td>BKB</td>\n",
       "      <td>Tube</td>\n",
       "      <td>1</td>\n",
       "      <td>0.869963</td>\n",
       "    </tr>\n",
       "    <tr>\n",
       "      <th>1</th>\n",
       "      <td>BKB</td>\n",
       "      <td>Tube</td>\n",
       "      <td>2</td>\n",
       "      <td>1.000363</td>\n",
       "    </tr>\n",
       "    <tr>\n",
       "      <th>2</th>\n",
       "      <td>BKB</td>\n",
       "      <td>Tube</td>\n",
       "      <td>3</td>\n",
       "      <td>0.982935</td>\n",
       "    </tr>\n",
       "    <tr>\n",
       "      <th>3</th>\n",
       "      <td>BAC</td>\n",
       "      <td>Tube</td>\n",
       "      <td>1</td>\n",
       "      <td>0.810392</td>\n",
       "    </tr>\n",
       "    <tr>\n",
       "      <th>4</th>\n",
       "      <td>BAC</td>\n",
       "      <td>Tube</td>\n",
       "      <td>2</td>\n",
       "      <td>0.795107</td>\n",
       "    </tr>\n",
       "  </tbody>\n",
       "</table>\n",
       "</div>"
      ],
      "text/plain": [
       "  Group Treatment  Replicate  RelativeFitness\n",
       "0   BKB      Tube          1         0.869963\n",
       "1   BKB      Tube          2         1.000363\n",
       "2   BKB      Tube          3         0.982935\n",
       "3   BAC      Tube          1         0.810392\n",
       "4   BAC      Tube          2         0.795107"
      ]
     },
     "execution_count": 20,
     "metadata": {},
     "output_type": "execute_result"
    }
   ],
   "source": [
    "data = pd.read_csv('TradeoffData.csv')\n",
    "data.head()"
   ]
  },
  {
   "cell_type": "markdown",
   "metadata": {},
   "source": [
    "## Splitting the data "
   ]
  },
  {
   "cell_type": "raw",
   "metadata": {},
   "source": [
    "Let us divide the data into groups. First by treatment"
   ]
  },
  {
   "cell_type": "code",
   "execution_count": 21,
   "metadata": {
    "collapsed": true
   },
   "outputs": [],
   "source": [
    "bytreatment = data.groupby('Treatment')"
   ]
  },
  {
   "cell_type": "code",
   "execution_count": 23,
   "metadata": {
    "collapsed": false
   },
   "outputs": [
    {
     "data": {
      "text/html": [
       "<div style=\"max-height:1000px;max-width:1500px;overflow:auto;\">\n",
       "<table border=\"1\" class=\"dataframe\">\n",
       "  <thead>\n",
       "    <tr style=\"text-align: right;\">\n",
       "      <th></th>\n",
       "      <th>Group</th>\n",
       "      <th>Treatment</th>\n",
       "      <th>Replicate</th>\n",
       "      <th>RelativeFitness</th>\n",
       "    </tr>\n",
       "  </thead>\n",
       "  <tbody>\n",
       "    <tr>\n",
       "      <th>0</th>\n",
       "      <td>BKB</td>\n",
       "      <td>Tube</td>\n",
       "      <td>1</td>\n",
       "      <td>0.869963</td>\n",
       "    </tr>\n",
       "    <tr>\n",
       "      <th>1</th>\n",
       "      <td>BKB</td>\n",
       "      <td>Tube</td>\n",
       "      <td>2</td>\n",
       "      <td>1.000363</td>\n",
       "    </tr>\n",
       "    <tr>\n",
       "      <th>2</th>\n",
       "      <td>BKB</td>\n",
       "      <td>Tube</td>\n",
       "      <td>3</td>\n",
       "      <td>0.982935</td>\n",
       "    </tr>\n",
       "    <tr>\n",
       "      <th>32</th>\n",
       "      <td>BKB</td>\n",
       "      <td>Dish</td>\n",
       "      <td>1</td>\n",
       "      <td>1.152544</td>\n",
       "    </tr>\n",
       "    <tr>\n",
       "      <th>33</th>\n",
       "      <td>BKB</td>\n",
       "      <td>Dish</td>\n",
       "      <td>2</td>\n",
       "      <td>1.287085</td>\n",
       "    </tr>\n",
       "    <tr>\n",
       "      <th>34</th>\n",
       "      <td>BKB</td>\n",
       "      <td>Dish</td>\n",
       "      <td>3</td>\n",
       "      <td>1.507415</td>\n",
       "    </tr>\n",
       "  </tbody>\n",
       "</table>\n",
       "</div>"
      ],
      "text/plain": [
       "   Group Treatment  Replicate  RelativeFitness\n",
       "0    BKB      Tube          1         0.869963\n",
       "1    BKB      Tube          2         1.000363\n",
       "2    BKB      Tube          3         0.982935\n",
       "32   BKB      Dish          1         1.152544\n",
       "33   BKB      Dish          2         1.287085\n",
       "34   BKB      Dish          3         1.507415"
      ]
     },
     "execution_count": 23,
     "metadata": {},
     "output_type": "execute_result"
    }
   ],
   "source": [
    "bytreatment.head(n=3)"
   ]
  },
  {
   "cell_type": "markdown",
   "metadata": {},
   "source": [
    "Since RelativeFitness is the value we're interested in with these data, lets look at information about the distribution of RelativeFitness values within the groups. To get some basic statistics, we can use the describe() method:"
   ]
  },
  {
   "cell_type": "code",
   "execution_count": 24,
   "metadata": {
    "collapsed": false
   },
   "outputs": [
    {
     "data": {
      "text/plain": [
       "Treatment       \n",
       "Dish       count    32.000000\n",
       "           mean      1.456359\n",
       "           std       0.184792\n",
       "           min       0.955221\n",
       "           25%       1.429005\n",
       "           50%       1.510884\n",
       "           75%       1.581340\n",
       "           max       1.699276\n",
       "Tube       count    32.000000\n",
       "           mean      0.929589\n",
       "           std       0.050153\n",
       "           min       0.795107\n",
       "           25%       0.915050\n",
       "           50%       0.939089\n",
       "           75%       0.953505\n",
       "           max       1.000363\n",
       "dtype: float64"
      ]
     },
     "execution_count": 24,
     "metadata": {},
     "output_type": "execute_result"
    }
   ],
   "source": [
    "bytreatment['RelativeFitness'].describe()"
   ]
  },
  {
   "cell_type": "markdown",
   "metadata": {},
   "source": [
    "Based on this, we can clearly see that the mean AverageFitness values differ by quite a bit between the two treatments.\n",
    "\n",
    "It is often the case that the data could be grouped by more than one category. For example, we may want to look at the RelativeFitness values both per Treatment and per Group to see if each group saw similar differences between the treatments."
   ]
  },
  {
   "cell_type": "code",
   "execution_count": 37,
   "metadata": {
    "collapsed": true
   },
   "outputs": [],
   "source": [
    "bygroup_treatment = data.groupby(['Group', 'Treatment'])"
   ]
  },
  {
   "cell_type": "markdown",
   "metadata": {},
   "source": [
    "We can ge similar stats for this two-level grouping "
   ]
  },
  {
   "cell_type": "code",
   "execution_count": 38,
   "metadata": {
    "collapsed": false
   },
   "outputs": [
    {
     "data": {
      "text/plain": [
       "Group  Treatment       \n",
       "BAC    Dish       count    2.000000\n",
       "                  mean     1.633628\n",
       "                  std      0.026313\n",
       "                  min      1.615022\n",
       "                  25%      1.624325\n",
       "                  50%      1.633628\n",
       "                  75%      1.642931\n",
       "                  max      1.652234\n",
       "       Tube       count    2.000000\n",
       "                  mean     0.802749\n",
       "                  std      0.010808\n",
       "                  min      0.795107\n",
       "                  25%      0.798928\n",
       "                  50%      0.802749\n",
       "                  75%      0.806570\n",
       "                  max      0.810392\n",
       "BKB    Dish       count    3.000000\n",
       "                  mean     1.315682\n",
       "                  std      0.179156\n",
       "                  min      1.152544\n",
       "                  25%      1.219815\n",
       "                  50%      1.287085\n",
       "                  75%      1.397250\n",
       "                  max      1.507415\n",
       "       Tube       count    3.000000\n",
       "                  mean     0.951087\n",
       "                  std      0.070794\n",
       "                  min      0.869963\n",
       "                  25%      0.926449\n",
       "                  50%      0.982935\n",
       "                             ...   \n",
       "PPP    Dish       std      0.036531\n",
       "                  min      1.508969\n",
       "                  25%      1.531269\n",
       "                  50%      1.553568\n",
       "                  75%      1.567477\n",
       "                  max      1.581386\n",
       "       Tube       count    3.000000\n",
       "                  mean     0.970277\n",
       "                  std      0.020897\n",
       "                  min      0.948767\n",
       "                  25%      0.960166\n",
       "                  50%      0.971565\n",
       "                  75%      0.981033\n",
       "                  max      0.990500\n",
       "SWI    Dish       count    3.000000\n",
       "                  mean     1.451796\n",
       "                  std      0.079652\n",
       "                  min      1.362556\n",
       "                  25%      1.419848\n",
       "                  50%      1.477141\n",
       "                  75%      1.496417\n",
       "                  max      1.515692\n",
       "       Tube       count    3.000000\n",
       "                  mean     0.918647\n",
       "                  std      0.009692\n",
       "                  min      0.909023\n",
       "                  25%      0.913768\n",
       "                  50%      0.918514\n",
       "                  75%      0.923459\n",
       "                  max      0.928405\n",
       "dtype: float64"
      ]
     },
     "execution_count": 38,
     "metadata": {},
     "output_type": "execute_result"
    }
   ],
   "source": [
    "bygroup_treatment['RelativeFitness'].describe()"
   ]
  },
  {
   "cell_type": "markdown",
   "metadata": {},
   "source": [
    "## Applying functions to the subsets"
   ]
  },
  {
   "cell_type": "markdown",
   "metadata": {},
   "source": [
    "As we saw, the describe() method produces some very useful statistics about the RelativeFitness values for the grouped data. Pandas includes a number of common ones such as mean(), max(), median(), etc.:"
   ]
  },
  {
   "cell_type": "code",
   "execution_count": 39,
   "metadata": {
    "collapsed": false
   },
   "outputs": [
    {
     "data": {
      "text/plain": [
       "Group  Treatment\n",
       "BAC    Dish         1.633628\n",
       "       Tube         0.802749\n",
       "BKB    Dish         1.315682\n",
       "       Tube         0.951087\n",
       "DOS    Dish         1.587148\n",
       "       Tube         0.945595\n",
       "ECO    Dish         1.561197\n",
       "       Tube         0.971033\n",
       "ETH    Dish         1.482941\n",
       "       Tube         0.934431\n",
       "FIT    Dish         1.001960\n",
       "       Tube         0.956410\n",
       "H2W    Dish         1.525228\n",
       "       Tube         0.902636\n",
       "HHE    Dish         1.424773\n",
       "       Tube         0.939615\n",
       "JDK    Dish         1.546707\n",
       "       Tube         0.890721\n",
       "PPP    Dish         1.547974\n",
       "       Tube         0.970277\n",
       "SWI    Dish         1.451796\n",
       "       Tube         0.918647\n",
       "Name: RelativeFitness, dtype: float64"
      ]
     },
     "execution_count": 39,
     "metadata": {},
     "output_type": "execute_result"
    }
   ],
   "source": [
    "bygroup_treatment['RelativeFitness'].mean()"
   ]
  },
  {
   "cell_type": "markdown",
   "metadata": {},
   "source": [
    "Aside from these, arbitrary functions can also be applied to groups of data---including ones you write yourself---using the aggregate method. Here, we'll use NumPy's sum function, which will calculate the sum of the RelativeFitness values per group (which doesn't really mean anything):"
   ]
  },
  {
   "cell_type": "code",
   "execution_count": 40,
   "metadata": {
    "collapsed": false
   },
   "outputs": [
    {
     "data": {
      "text/plain": [
       "Group  Treatment\n",
       "BAC    Dish         3.267256\n",
       "       Tube         1.605498\n",
       "BKB    Dish         3.947045\n",
       "       Tube         2.853261\n",
       "DOS    Dish         4.761443\n",
       "       Tube         2.836784\n",
       "ECO    Dish         4.683590\n",
       "       Tube         2.913100\n",
       "ETH    Dish         4.448824\n",
       "       Tube         2.803292\n",
       "FIT    Dish         3.005880\n",
       "       Tube         2.869231\n",
       "H2W    Dish         4.575683\n",
       "       Tube         2.707909\n",
       "HHE    Dish         4.274319\n",
       "       Tube         2.818846\n",
       "JDK    Dish         4.640121\n",
       "       Tube         2.672164\n",
       "PPP    Dish         4.643923\n",
       "       Tube         2.910832\n",
       "SWI    Dish         4.355389\n",
       "       Tube         2.755942\n",
       "Name: RelativeFitness, dtype: float64"
      ]
     },
     "execution_count": 40,
     "metadata": {},
     "output_type": "execute_result"
    }
   ],
   "source": [
    "bygroup_treatment['RelativeFitness'].aggregate(np.sum)"
   ]
  },
  {
   "cell_type": "markdown",
   "metadata": {},
   "source": [
    "We can also apply multiple functions to the groups using agg():"
   ]
  },
  {
   "cell_type": "code",
   "execution_count": 42,
   "metadata": {
    "collapsed": false
   },
   "outputs": [
    {
     "data": {
      "text/html": [
       "<div style=\"max-height:1000px;max-width:1500px;overflow:auto;\">\n",
       "<table border=\"1\" class=\"dataframe\">\n",
       "  <thead>\n",
       "    <tr style=\"text-align: right;\">\n",
       "      <th></th>\n",
       "      <th></th>\n",
       "      <th>sum</th>\n",
       "      <th>mean</th>\n",
       "      <th>std</th>\n",
       "      <th>len</th>\n",
       "    </tr>\n",
       "    <tr>\n",
       "      <th>Group</th>\n",
       "      <th>Treatment</th>\n",
       "      <th></th>\n",
       "      <th></th>\n",
       "      <th></th>\n",
       "      <th></th>\n",
       "    </tr>\n",
       "  </thead>\n",
       "  <tbody>\n",
       "    <tr>\n",
       "      <th rowspan=\"2\" valign=\"top\">BAC</th>\n",
       "      <th>Dish</th>\n",
       "      <td>3.267256</td>\n",
       "      <td>1.633628</td>\n",
       "      <td>0.026313</td>\n",
       "      <td>2</td>\n",
       "    </tr>\n",
       "    <tr>\n",
       "      <th>Tube</th>\n",
       "      <td>1.605498</td>\n",
       "      <td>0.802749</td>\n",
       "      <td>0.010808</td>\n",
       "      <td>2</td>\n",
       "    </tr>\n",
       "    <tr>\n",
       "      <th rowspan=\"2\" valign=\"top\">BKB</th>\n",
       "      <th>Dish</th>\n",
       "      <td>3.947045</td>\n",
       "      <td>1.315682</td>\n",
       "      <td>0.179156</td>\n",
       "      <td>3</td>\n",
       "    </tr>\n",
       "    <tr>\n",
       "      <th>Tube</th>\n",
       "      <td>2.853261</td>\n",
       "      <td>0.951087</td>\n",
       "      <td>0.070794</td>\n",
       "      <td>3</td>\n",
       "    </tr>\n",
       "    <tr>\n",
       "      <th rowspan=\"2\" valign=\"top\">DOS</th>\n",
       "      <th>Dish</th>\n",
       "      <td>4.761443</td>\n",
       "      <td>1.587148</td>\n",
       "      <td>0.006740</td>\n",
       "      <td>3</td>\n",
       "    </tr>\n",
       "    <tr>\n",
       "      <th>Tube</th>\n",
       "      <td>2.836784</td>\n",
       "      <td>0.945595</td>\n",
       "      <td>0.005768</td>\n",
       "      <td>3</td>\n",
       "    </tr>\n",
       "    <tr>\n",
       "      <th rowspan=\"2\" valign=\"top\">ECO</th>\n",
       "      <th>Dish</th>\n",
       "      <td>4.683590</td>\n",
       "      <td>1.561197</td>\n",
       "      <td>0.124910</td>\n",
       "      <td>3</td>\n",
       "    </tr>\n",
       "    <tr>\n",
       "      <th>Tube</th>\n",
       "      <td>2.913100</td>\n",
       "      <td>0.971033</td>\n",
       "      <td>0.029120</td>\n",
       "      <td>3</td>\n",
       "    </tr>\n",
       "    <tr>\n",
       "      <th rowspan=\"2\" valign=\"top\">ETH</th>\n",
       "      <th>Dish</th>\n",
       "      <td>4.448824</td>\n",
       "      <td>1.482941</td>\n",
       "      <td>0.124571</td>\n",
       "      <td>3</td>\n",
       "    </tr>\n",
       "    <tr>\n",
       "      <th>Tube</th>\n",
       "      <td>2.803292</td>\n",
       "      <td>0.934431</td>\n",
       "      <td>0.022169</td>\n",
       "      <td>3</td>\n",
       "    </tr>\n",
       "    <tr>\n",
       "      <th rowspan=\"2\" valign=\"top\">FIT</th>\n",
       "      <th>Dish</th>\n",
       "      <td>3.005880</td>\n",
       "      <td>1.001960</td>\n",
       "      <td>0.041853</td>\n",
       "      <td>3</td>\n",
       "    </tr>\n",
       "    <tr>\n",
       "      <th>Tube</th>\n",
       "      <td>2.869231</td>\n",
       "      <td>0.956410</td>\n",
       "      <td>0.038808</td>\n",
       "      <td>3</td>\n",
       "    </tr>\n",
       "    <tr>\n",
       "      <th rowspan=\"2\" valign=\"top\">H2W</th>\n",
       "      <th>Dish</th>\n",
       "      <td>4.575683</td>\n",
       "      <td>1.525228</td>\n",
       "      <td>0.014052</td>\n",
       "      <td>3</td>\n",
       "    </tr>\n",
       "    <tr>\n",
       "      <th>Tube</th>\n",
       "      <td>2.707909</td>\n",
       "      <td>0.902636</td>\n",
       "      <td>0.043792</td>\n",
       "      <td>3</td>\n",
       "    </tr>\n",
       "    <tr>\n",
       "      <th rowspan=\"2\" valign=\"top\">HHE</th>\n",
       "      <th>Dish</th>\n",
       "      <td>4.274319</td>\n",
       "      <td>1.424773</td>\n",
       "      <td>0.085070</td>\n",
       "      <td>3</td>\n",
       "    </tr>\n",
       "    <tr>\n",
       "      <th>Tube</th>\n",
       "      <td>2.818846</td>\n",
       "      <td>0.939615</td>\n",
       "      <td>0.015305</td>\n",
       "      <td>3</td>\n",
       "    </tr>\n",
       "    <tr>\n",
       "      <th rowspan=\"2\" valign=\"top\">JDK</th>\n",
       "      <th>Dish</th>\n",
       "      <td>4.640121</td>\n",
       "      <td>1.546707</td>\n",
       "      <td>0.036218</td>\n",
       "      <td>3</td>\n",
       "    </tr>\n",
       "    <tr>\n",
       "      <th>Tube</th>\n",
       "      <td>2.672164</td>\n",
       "      <td>0.890721</td>\n",
       "      <td>0.036479</td>\n",
       "      <td>3</td>\n",
       "    </tr>\n",
       "    <tr>\n",
       "      <th rowspan=\"2\" valign=\"top\">PPP</th>\n",
       "      <th>Dish</th>\n",
       "      <td>4.643923</td>\n",
       "      <td>1.547974</td>\n",
       "      <td>0.036531</td>\n",
       "      <td>3</td>\n",
       "    </tr>\n",
       "    <tr>\n",
       "      <th>Tube</th>\n",
       "      <td>2.910832</td>\n",
       "      <td>0.970277</td>\n",
       "      <td>0.020897</td>\n",
       "      <td>3</td>\n",
       "    </tr>\n",
       "    <tr>\n",
       "      <th rowspan=\"2\" valign=\"top\">SWI</th>\n",
       "      <th>Dish</th>\n",
       "      <td>4.355389</td>\n",
       "      <td>1.451796</td>\n",
       "      <td>0.079652</td>\n",
       "      <td>3</td>\n",
       "    </tr>\n",
       "    <tr>\n",
       "      <th>Tube</th>\n",
       "      <td>2.755942</td>\n",
       "      <td>0.918647</td>\n",
       "      <td>0.009692</td>\n",
       "      <td>3</td>\n",
       "    </tr>\n",
       "  </tbody>\n",
       "</table>\n",
       "</div>"
      ],
      "text/plain": [
       "                      sum      mean       std  len\n",
       "Group Treatment                                   \n",
       "BAC   Dish       3.267256  1.633628  0.026313    2\n",
       "      Tube       1.605498  0.802749  0.010808    2\n",
       "BKB   Dish       3.947045  1.315682  0.179156    3\n",
       "      Tube       2.853261  0.951087  0.070794    3\n",
       "DOS   Dish       4.761443  1.587148  0.006740    3\n",
       "      Tube       2.836784  0.945595  0.005768    3\n",
       "ECO   Dish       4.683590  1.561197  0.124910    3\n",
       "      Tube       2.913100  0.971033  0.029120    3\n",
       "ETH   Dish       4.448824  1.482941  0.124571    3\n",
       "      Tube       2.803292  0.934431  0.022169    3\n",
       "FIT   Dish       3.005880  1.001960  0.041853    3\n",
       "      Tube       2.869231  0.956410  0.038808    3\n",
       "H2W   Dish       4.575683  1.525228  0.014052    3\n",
       "      Tube       2.707909  0.902636  0.043792    3\n",
       "HHE   Dish       4.274319  1.424773  0.085070    3\n",
       "      Tube       2.818846  0.939615  0.015305    3\n",
       "JDK   Dish       4.640121  1.546707  0.036218    3\n",
       "      Tube       2.672164  0.890721  0.036479    3\n",
       "PPP   Dish       4.643923  1.547974  0.036531    3\n",
       "      Tube       2.910832  0.970277  0.020897    3\n",
       "SWI   Dish       4.355389  1.451796  0.079652    3\n",
       "      Tube       2.755942  0.918647  0.009692    3"
      ]
     },
     "execution_count": 42,
     "metadata": {},
     "output_type": "execute_result"
    }
   ],
   "source": [
    "bygroup_treatment['RelativeFitness'].agg([np.sum, np.mean, np.std, len])"
   ]
  }
 ],
 "metadata": {
  "kernelspec": {
   "display_name": "Python 2",
   "language": "python",
   "name": "python2"
  },
  "language_info": {
   "codemirror_mode": {
    "name": "ipython",
    "version": 2
   },
   "file_extension": ".py",
   "mimetype": "text/x-python",
   "name": "python",
   "nbconvert_exporter": "python",
   "pygments_lexer": "ipython2",
   "version": "2.7.9"
  }
 },
 "nbformat": 4,
 "nbformat_minor": 0
}
