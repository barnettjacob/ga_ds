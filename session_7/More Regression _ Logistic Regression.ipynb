{
 "cells": [
  {
   "cell_type": "markdown",
   "metadata": {},
   "source": [
    "##Polynomial Regression using Ridge Regression"
   ]
  },
  {
   "cell_type": "code",
   "execution_count": 1,
   "metadata": {
    "collapsed": true
   },
   "outputs": [],
   "source": [
    "from sklearn import linear_model\n",
    "import sklearn\n",
    "import pandas as pd"
   ]
  },
  {
   "cell_type": "code",
   "execution_count": 2,
   "metadata": {
    "collapsed": false
   },
   "outputs": [],
   "source": [
    "mammals = pd.read_csv('mammals.csv')"
   ]
  },
  {
   "cell_type": "code",
   "execution_count": 3,
   "metadata": {
    "collapsed": false
   },
   "outputs": [
    {
     "data": {
      "text/html": [
       "<div style=\"max-height:1000px;max-width:1500px;overflow:auto;\">\n",
       "<table border=\"1\" class=\"dataframe\">\n",
       "  <thead>\n",
       "    <tr style=\"text-align: right;\">\n",
       "      <th></th>\n",
       "      <th>Name</th>\n",
       "      <th>body</th>\n",
       "      <th>brain</th>\n",
       "      <th>body_squared</th>\n",
       "    </tr>\n",
       "  </thead>\n",
       "  <tbody>\n",
       "    <tr>\n",
       "      <th>0</th>\n",
       "      <td>      Arctic fox</td>\n",
       "      <td>   3.385</td>\n",
       "      <td>  44.5</td>\n",
       "      <td>     11.458225</td>\n",
       "    </tr>\n",
       "    <tr>\n",
       "      <th>1</th>\n",
       "      <td>      Owl monkey</td>\n",
       "      <td>   0.480</td>\n",
       "      <td>  15.5</td>\n",
       "      <td>      0.230400</td>\n",
       "    </tr>\n",
       "    <tr>\n",
       "      <th>2</th>\n",
       "      <td> Mountain beaver</td>\n",
       "      <td>   1.350</td>\n",
       "      <td>   8.1</td>\n",
       "      <td>      1.822500</td>\n",
       "    </tr>\n",
       "    <tr>\n",
       "      <th>3</th>\n",
       "      <td>             Cow</td>\n",
       "      <td> 465.000</td>\n",
       "      <td> 423.0</td>\n",
       "      <td> 216225.000000</td>\n",
       "    </tr>\n",
       "    <tr>\n",
       "      <th>4</th>\n",
       "      <td>       Grey wolf</td>\n",
       "      <td>  36.330</td>\n",
       "      <td> 119.5</td>\n",
       "      <td>   1319.868900</td>\n",
       "    </tr>\n",
       "  </tbody>\n",
       "</table>\n",
       "</div>"
      ],
      "text/plain": [
       "              Name     body  brain   body_squared\n",
       "0       Arctic fox    3.385   44.5      11.458225\n",
       "1       Owl monkey    0.480   15.5       0.230400\n",
       "2  Mountain beaver    1.350    8.1       1.822500\n",
       "3              Cow  465.000  423.0  216225.000000\n",
       "4        Grey wolf   36.330  119.5    1319.868900"
      ]
     },
     "execution_count": 3,
     "metadata": {},
     "output_type": "execute_result"
    }
   ],
   "source": [
    "brain = mammals['brain']\n",
    "\n",
    "#Let us add a square body variable\n",
    "mammals['body_squared'] = mammals['body'] ** 2\n",
    "mammals.head()"
   ]
  },
  {
   "cell_type": "code",
   "execution_count": 4,
   "metadata": {
    "collapsed": true
   },
   "outputs": [],
   "source": [
    "# Let us initialise an object for the ridge regression\n",
    "ridge = linear_model.Ridge()"
   ]
  },
  {
   "cell_type": "code",
   "execution_count": 5,
   "metadata": {
    "collapsed": false
   },
   "outputs": [
    {
     "data": {
      "text/html": [
       "<div style=\"max-height:1000px;max-width:1500px;overflow:auto;\">\n",
       "<table border=\"1\" class=\"dataframe\">\n",
       "  <thead>\n",
       "    <tr style=\"text-align: right;\">\n",
       "      <th></th>\n",
       "      <th>body</th>\n",
       "      <th>body_squared</th>\n",
       "    </tr>\n",
       "  </thead>\n",
       "  <tbody>\n",
       "    <tr>\n",
       "      <th>0</th>\n",
       "      <td>   3.385</td>\n",
       "      <td>     11.458225</td>\n",
       "    </tr>\n",
       "    <tr>\n",
       "      <th>1</th>\n",
       "      <td>   0.480</td>\n",
       "      <td>      0.230400</td>\n",
       "    </tr>\n",
       "    <tr>\n",
       "      <th>2</th>\n",
       "      <td>   1.350</td>\n",
       "      <td>      1.822500</td>\n",
       "    </tr>\n",
       "    <tr>\n",
       "      <th>3</th>\n",
       "      <td> 465.000</td>\n",
       "      <td> 216225.000000</td>\n",
       "    </tr>\n",
       "    <tr>\n",
       "      <th>4</th>\n",
       "      <td>  36.330</td>\n",
       "      <td>   1319.868900</td>\n",
       "    </tr>\n",
       "  </tbody>\n",
       "</table>\n",
       "</div>"
      ],
      "text/plain": [
       "      body   body_squared\n",
       "0    3.385      11.458225\n",
       "1    0.480       0.230400\n",
       "2    1.350       1.822500\n",
       "3  465.000  216225.000000\n",
       "4   36.330    1319.868900"
      ]
     },
     "execution_count": 5,
     "metadata": {},
     "output_type": "execute_result"
    }
   ],
   "source": [
    "body_squared = mammals[['body', 'body_squared']]\n",
    "body_squared.head()"
   ]
  },
  {
   "cell_type": "code",
   "execution_count": 6,
   "metadata": {
    "collapsed": false
   },
   "outputs": [
    {
     "data": {
      "text/plain": [
       "Ridge(alpha=1.0, copy_X=True, fit_intercept=True, max_iter=None,\n",
       "   normalize=False, solver='auto', tol=0.001)"
      ]
     },
     "execution_count": 6,
     "metadata": {},
     "output_type": "execute_result"
    }
   ],
   "source": [
    "ridge.fit(body_squared, brain)"
   ]
  },
  {
   "cell_type": "code",
   "execution_count": 7,
   "metadata": {
    "collapsed": false
   },
   "outputs": [
    {
     "name": "stdout",
     "output_type": "stream",
     "text": [
      "19.1153486389\n",
      "[  2.12392861e+00  -1.89465860e-04]\n"
     ]
    }
   ],
   "source": [
    "print ridge.intercept_\n",
    "print ridge.coef_"
   ]
  },
  {
   "cell_type": "code",
   "execution_count": 8,
   "metadata": {
    "collapsed": false
   },
   "outputs": [
    {
     "data": {
      "text/plain": [
       "0.95353172658821017"
      ]
     },
     "execution_count": 8,
     "metadata": {},
     "output_type": "execute_result"
    }
   ],
   "source": [
    "#Let us see the R^2\n",
    "ridge.score(body_squared, brain)"
   ]
  },
  {
   "cell_type": "markdown",
   "metadata": {},
   "source": [
    "##Logistic Regression"
   ]
  },
  {
   "cell_type": "markdown",
   "metadata": {},
   "source": [
    "Using Logistic Regression to classify beer"
   ]
  },
  {
   "cell_type": "code",
   "execution_count": 9,
   "metadata": {
    "collapsed": false
   },
   "outputs": [
    {
     "data": {
      "text/html": [
       "<div style=\"max-height:1000px;max-width:1500px;overflow:auto;\">\n",
       "<table border=\"1\" class=\"dataframe\">\n",
       "  <thead>\n",
       "    <tr style=\"text-align: right;\">\n",
       "      <th></th>\n",
       "      <th>Rank</th>\n",
       "      <th>Name</th>\n",
       "      <th>Brewery</th>\n",
       "      <th>Type</th>\n",
       "      <th>ABV</th>\n",
       "      <th>WR</th>\n",
       "      <th>Reviews</th>\n",
       "    </tr>\n",
       "  </thead>\n",
       "  <tbody>\n",
       "    <tr>\n",
       "      <th>0</th>\n",
       "      <td> 1</td>\n",
       "      <td>                            Heady Topper</td>\n",
       "      <td>                 The Alchemist</td>\n",
       "      <td>   Imperial IPA</td>\n",
       "      <td>  8.0</td>\n",
       "      <td> 4.69</td>\n",
       "      <td> 3146</td>\n",
       "    </tr>\n",
       "    <tr>\n",
       "      <th>1</th>\n",
       "      <td> 2</td>\n",
       "      <td>                       Pliny The Younger</td>\n",
       "      <td> Russian River Brewing Company</td>\n",
       "      <td>   Imperial IPA</td>\n",
       "      <td> 11.0</td>\n",
       "      <td> 4.65</td>\n",
       "      <td> 1572</td>\n",
       "    </tr>\n",
       "    <tr>\n",
       "      <th>2</th>\n",
       "      <td> 3</td>\n",
       "      <td>                         Pliny The Elder</td>\n",
       "      <td> Russian River Brewing Company</td>\n",
       "      <td>   Imperial IPA</td>\n",
       "      <td>  8.0</td>\n",
       "      <td> 4.64</td>\n",
       "      <td> 6129</td>\n",
       "    </tr>\n",
       "    <tr>\n",
       "      <th>3</th>\n",
       "      <td> 4</td>\n",
       "      <td>             Founders CBS Imperial Stout</td>\n",
       "      <td>      Founders Brewing Company</td>\n",
       "      <td> Imperial Stout</td>\n",
       "      <td> 10.6</td>\n",
       "      <td> 4.63</td>\n",
       "      <td> 2026</td>\n",
       "    </tr>\n",
       "    <tr>\n",
       "      <th>4</th>\n",
       "      <td> 5</td>\n",
       "      <td> Founders KBS (Kentucky Breakfast Stout)</td>\n",
       "      <td>      Founders Brewing Company</td>\n",
       "      <td> Imperial Stout</td>\n",
       "      <td> 11.2</td>\n",
       "      <td> 4.61</td>\n",
       "      <td> 4714</td>\n",
       "    </tr>\n",
       "  </tbody>\n",
       "</table>\n",
       "</div>"
      ],
      "text/plain": [
       "   Rank                                     Name  \\\n",
       "0     1                             Heady Topper   \n",
       "1     2                        Pliny The Younger   \n",
       "2     3                          Pliny The Elder   \n",
       "3     4              Founders CBS Imperial Stout   \n",
       "4     5  Founders KBS (Kentucky Breakfast Stout)   \n",
       "\n",
       "                         Brewery            Type   ABV    WR  Reviews  \n",
       "0                  The Alchemist    Imperial IPA   8.0  4.69     3146  \n",
       "1  Russian River Brewing Company    Imperial IPA  11.0  4.65     1572  \n",
       "2  Russian River Brewing Company    Imperial IPA   8.0  4.64     6129  \n",
       "3       Founders Brewing Company  Imperial Stout  10.6  4.63     2026  \n",
       "4       Founders Brewing Company  Imperial Stout  11.2  4.61     4714  "
      ]
     },
     "execution_count": 9,
     "metadata": {},
     "output_type": "execute_result"
    }
   ],
   "source": [
    "beer = pd.read_csv('beer.txt', delimiter = '\\t')\n",
    "beer.head()"
   ]
  },
  {
   "cell_type": "code",
   "execution_count": 10,
   "metadata": {
    "collapsed": false
   },
   "outputs": [
    {
     "data": {
      "text/plain": [
       "(234, 7)"
      ]
     },
     "execution_count": 10,
     "metadata": {},
     "output_type": "execute_result"
    }
   ],
   "source": [
    "#Janitor Work - let us get rid of na in some rows\n",
    "beer = beer.dropna()\n",
    "beer.shape"
   ]
  },
  {
   "cell_type": "code",
   "execution_count": 11,
   "metadata": {
    "collapsed": false
   },
   "outputs": [],
   "source": [
    "#For classification we need labels\n",
    "\n",
    "def good(x):\n",
    "    if x>4.3:\n",
    "        return 1\n",
    "    else:\n",
    "        return 0\n",
    "    \n",
    "#Apply the function to the WR column\n",
    "beer['good'] = beer['WR'].apply(good)   "
   ]
  },
  {
   "cell_type": "code",
   "execution_count": 12,
   "metadata": {
    "collapsed": true
   },
   "outputs": [],
   "source": [
    "#Let us create a logistic model instance\n",
    "\n",
    "logm = linear_model.LogisticRegression()"
   ]
  },
  {
   "cell_type": "code",
   "execution_count": 13,
   "metadata": {
    "collapsed": false
   },
   "outputs": [
    {
     "data": {
      "text/plain": [
       "array([1, 1, 1, 1, 1, 1, 1, 1, 1, 1, 1, 1, 1, 1, 1, 1, 1, 1, 1, 1, 1, 1, 1,\n",
       "       1, 1, 1, 1, 1, 1, 1, 1, 1, 1, 1, 1, 1, 1, 1, 1, 1, 1, 1, 1, 1, 1, 1,\n",
       "       1, 1, 1, 1, 1, 1, 1, 1, 1, 1, 1, 1, 1, 1, 1, 1, 1, 1, 1, 1, 1, 1, 1,\n",
       "       1, 1, 1, 1, 1, 1, 1, 1, 1, 1, 1, 1, 1, 1, 1, 1, 1, 1, 1, 1, 1, 1, 1,\n",
       "       1, 0, 0, 0, 0, 0, 0, 0, 0, 0, 0, 0, 0, 0, 0, 0, 0, 0, 0, 0, 0, 0, 0,\n",
       "       0, 0, 0, 0, 0, 0, 0, 0, 0, 0, 0, 0, 0, 0, 0, 0, 0, 0, 0, 0, 0, 0, 0,\n",
       "       0, 0, 0, 0, 0, 0, 0, 0, 0, 0, 0, 0, 0, 0, 0, 0, 0, 0, 0, 0, 0, 0, 0,\n",
       "       0, 0, 0, 0, 0, 0, 0, 0, 0, 0, 0, 0, 0, 0, 0, 0, 0, 0, 0, 0, 0, 0, 0,\n",
       "       0, 0, 0, 0, 0, 0, 0, 0, 0, 0, 0, 0, 0, 0, 0, 0, 0, 0, 0, 0, 0, 0, 0,\n",
       "       0, 0, 0, 0, 0, 0, 0, 0, 0, 0, 0, 0, 0, 0, 0, 0, 0, 0, 0, 0, 0, 0, 0,\n",
       "       0, 0, 0, 0])"
      ]
     },
     "execution_count": 13,
     "metadata": {},
     "output_type": "execute_result"
    }
   ],
   "source": [
    "my_input = beer[['Reviews', 'ABV']].values\n",
    "\n",
    "good_output = beer['good'].values\n",
    "\n",
    "good_output"
   ]
  },
  {
   "cell_type": "code",
   "execution_count": 14,
   "metadata": {
    "collapsed": false
   },
   "outputs": [
    {
     "data": {
      "text/plain": [
       "LogisticRegression(C=1.0, class_weight=None, dual=False, fit_intercept=True,\n",
       "          intercept_scaling=1, penalty='l2', random_state=None, tol=0.0001)"
      ]
     },
     "execution_count": 14,
     "metadata": {},
     "output_type": "execute_result"
    }
   ],
   "source": [
    "#Let us fit the model\n",
    "\n",
    "logm.fit(my_input, good_output)"
   ]
  },
  {
   "cell_type": "code",
   "execution_count": 15,
   "metadata": {
    "collapsed": false
   },
   "outputs": [
    {
     "data": {
      "text/plain": [
       "array([0, 0, 1, 0, 1, 0, 1, 0, 0, 0, 0, 1, 0, 1, 1, 0, 0, 0, 0, 0, 0, 0, 0,\n",
       "       1, 0, 0, 0, 0, 0, 0, 0, 0, 0, 0, 0, 0, 0, 0, 0, 0, 0, 0, 0, 1, 0, 1,\n",
       "       0, 0, 0, 0, 0, 0, 0, 0, 0, 1, 0, 0, 0, 0, 0, 0, 0, 0, 0, 0, 0, 0, 0,\n",
       "       0, 0, 0, 0, 1, 0, 0, 0, 0, 0, 0, 0, 0, 0, 0, 0, 0, 0, 0, 0, 0, 0, 0,\n",
       "       0, 1, 1, 0, 1, 0, 0, 0, 0, 0, 0, 0, 0, 0, 0, 1, 0, 0, 0, 0, 0, 0, 0,\n",
       "       0, 0, 1, 0, 0, 0, 0, 0, 0, 0, 0, 0, 0, 0, 0, 0, 0, 0, 0, 0, 0, 0, 0,\n",
       "       0, 0, 0, 0, 0, 0, 0, 0, 0, 0, 0, 0, 0, 0, 0, 0, 0, 0, 0, 0, 0, 0, 0,\n",
       "       1, 0, 0, 0, 0, 0, 0, 0, 0, 0, 0, 0, 0, 0, 0, 0, 0, 0, 0, 0, 0, 0, 0,\n",
       "       0, 0, 0, 0, 0, 0, 0, 0, 0, 0, 0, 0, 0, 0, 0, 0, 0, 0, 0, 0, 0, 0, 0,\n",
       "       0, 0, 0, 0, 0, 0, 0, 0, 0, 0, 0, 0, 0, 0, 0, 0, 0, 0, 0, 0, 0, 0, 0,\n",
       "       0, 0, 0, 0])"
      ]
     },
     "execution_count": 15,
     "metadata": {},
     "output_type": "execute_result"
    }
   ],
   "source": [
    "logm.predict(my_input)"
   ]
  },
  {
   "cell_type": "code",
   "execution_count": 16,
   "metadata": {
    "collapsed": false
   },
   "outputs": [
    {
     "data": {
      "text/plain": [
       "0.62393162393162394"
      ]
     },
     "execution_count": 16,
     "metadata": {},
     "output_type": "execute_result"
    }
   ],
   "source": [
    "logm.score(my_input, good_output)"
   ]
  },
  {
   "cell_type": "code",
   "execution_count": 17,
   "metadata": {
    "collapsed": false
   },
   "outputs": [
    {
     "data": {
      "text/plain": [
       "LogisticRegression(C=1.0, class_weight=None, dual=False, fit_intercept=True,\n",
       "          intercept_scaling=1, penalty='l1', random_state=None, tol=0.0001)"
      ]
     },
     "execution_count": 17,
     "metadata": {},
     "output_type": "execute_result"
    }
   ],
   "source": [
    "#Let us change the penalty\n",
    "logm2 = linear_model.LogisticRegression()\n",
    "logm2.set_params(penalty = 'l1')"
   ]
  },
  {
   "cell_type": "code",
   "execution_count": 18,
   "metadata": {
    "collapsed": false
   },
   "outputs": [
    {
     "name": "stdout",
     "output_type": "stream",
     "text": [
      "The scikit-learn version is 0.15.2.\n"
     ]
    }
   ],
   "source": [
    "print('The scikit-learn version is {}.'.format(sklearn.__version__))"
   ]
  },
  {
   "cell_type": "code",
   "execution_count": 24,
   "metadata": {
    "collapsed": false
   },
   "outputs": [
    {
     "data": {
      "text/plain": [
       "array(['Imperial IPA', 'Imperial Stout', 'American Pale Ale', 'Fruit',\n",
       "       'Old Ale', 'Porter', 'American IPA', 'English Barleywine',\n",
       "       'Lambic Gueuze', 'Wild Ale', 'Red Ale', 'American Strong Ale',\n",
       "       'Doppelbock', 'American Wild Ale', 'Gueuze', 'Farmhouse Ale',\n",
       "       'Vegetable Beer', 'Belgian Strong Dark Ale', 'Weizenbock',\n",
       "       'Eisbock', 'American Porter', 'Russian Imperial Stout', 'Scoth Ale',\n",
       "       'Belgian Strong Pale Ale', 'Tripel', 'Hefeweizen',\n",
       "       'Flanders Red Ale', 'American Pale Lager', 'American Double',\n",
       "       'Imperial Pilsner', 'American Black Ale', 'American Barleywine',\n",
       "       'Flanders Oud Bruin', 'Belgian IPA', 'Oatmeal Stout',\n",
       "       'American Pale Wheat Ale', 'Dunkelweizen', 'American Amber',\n",
       "       'Lambic', 'Rye Beer', 'Blatic Porter', 'Belgian Pale Ale',\n",
       "       'American Stout'], dtype=object)"
      ]
     },
     "execution_count": 24,
     "metadata": {},
     "output_type": "execute_result"
    }
   ],
   "source": [
    "pd.unique(beer['Type'].values.ravel())"
   ]
  },
  {
   "cell_type": "code",
   "execution_count": 46,
   "metadata": {
    "collapsed": false
   },
   "outputs": [
    {
     "data": {
      "text/plain": [
       "Type\n",
       "Imperial Stout             46\n",
       "Imperial IPA               39\n",
       "American IPA               25\n",
       "Russian Imperial Stout     13\n",
       "American Strong Ale        10\n",
       "Fruit                       8\n",
       "American Wild Ale           8\n",
       "Gueuze                      6\n",
       "Old Ale                     6\n",
       "Belgian Strong Dark Ale     6\n",
       "English Barleywine          5\n",
       "American Porter             5\n",
       "Flanders Red Ale            4\n",
       "American Pale Ale           4\n",
       "American Barleywine         4\n",
       "Tripel                      4\n",
       "American Double             3\n",
       "Vegetable Beer              3\n",
       "Farmhouse Ale               3\n",
       "American Pale Wheat Ale     2\n",
       "American Black Ale          2\n",
       "Doppelbock                  2\n",
       "Wild Ale                    2\n",
       "Weizenbock                  2\n",
       "Porter                      2\n",
       "Hefeweizen                  2\n",
       "Imperial Pilsner            2\n",
       "Eisbock                     1\n",
       "Lambic Gueuze               1\n",
       "Scoth Ale                   1\n",
       "Rye Beer                    1\n",
       "Red Ale                     1\n",
       "Oatmeal Stout               1\n",
       "American Pale Lager         1\n",
       "American Stout              1\n",
       "Lambic                      1\n",
       "Dunkelweizen                1\n",
       "Belgian IPA                 1\n",
       "Belgian Pale Ale            1\n",
       "Flanders Oud Bruin          1\n",
       "Belgian Strong Pale Ale     1\n",
       "Blatic Porter               1\n",
       "American Amber              1\n",
       "Name: Rank, dtype: int64"
      ]
     },
     "execution_count": 46,
     "metadata": {},
     "output_type": "execute_result"
    }
   ],
   "source": [
    "beer.groupby('Type').count()['Rank'].order(ascending = False)"
   ]
  },
  {
   "cell_type": "code",
   "execution_count": null,
   "metadata": {
    "collapsed": true
   },
   "outputs": [],
   "source": []
  }
 ],
 "metadata": {
  "kernelspec": {
   "display_name": "Python 2",
   "language": "python",
   "name": "python2"
  },
  "language_info": {
   "codemirror_mode": {
    "name": "ipython",
    "version": 2
   },
   "file_extension": ".py",
   "mimetype": "text/x-python",
   "name": "python",
   "nbconvert_exporter": "python",
   "pygments_lexer": "ipython2",
   "version": "2.7.9"
  }
 },
 "nbformat": 4,
 "nbformat_minor": 0
}
