{
 "cells": [
  {
   "cell_type": "markdown",
   "metadata": {},
   "source": [
    "##Availability Workings"
   ]
  },
  {
   "cell_type": "code",
   "execution_count": 111,
   "metadata": {
    "collapsed": false
   },
   "outputs": [
    {
     "name": "stdout",
     "output_type": "stream",
     "text": [
      "2.7.9 |Anaconda 2.1.0 (x86_64)| (default, Dec 15 2014, 10:37:34) \n",
      "[GCC 4.2.1 (Apple Inc. build 5577)]\n",
      "Pandas: 0.16.0\n"
     ]
    }
   ],
   "source": [
    "get_ipython().magic(u'matplotlib inline')\n",
    "from datetime import date, datetime, timedelta\n",
    "import copy\n",
    "import sys\n",
    "import pandas as pd\n",
    "import numpy as np\n",
    "import pymysql\n",
    "import matplotlib.pyplot as plt\n",
    "pd.options.display.mpl_style = 'default'\n",
    "print sys.version\n",
    "print \"Pandas:\", pd.version.version"
   ]
  },
  {
   "cell_type": "code",
   "execution_count": 139,
   "metadata": {
    "collapsed": true
   },
   "outputs": [],
   "source": [
    "conn = pymysql.connect(host = 'analytics-db.housetrip.com', port = 3306, user = 'jbarnett', db = 'housetrip_production', passwd = '8NxWM7Nrtbon75T5x1F0g2ReWacgGyjfY')"
   ]
  },
  {
   "cell_type": "code",
   "execution_count": 183,
   "metadata": {
    "collapsed": false
   },
   "outputs": [],
   "source": [
    "rates_query = ('SELECT r.property_id, r.start_date, r.end_date, r.average_price_per_night, r.minimum_days_of_stay ' \n",
    "       'FROM rates r '\n",
    "       'LEFT JOIN dw_properties p ON p.property_id = r.property_id '\n",
    "       'WHERE r.end_date > CURDATE() '\n",
    "       'AND p.status = \"Live\" '\n",
    "       'AND r.property_id < 10000'\n",
    "      )\n",
    "rates = pd.read_sql(rates_query, con = conn)"
   ]
  },
  {
   "cell_type": "code",
   "execution_count": 188,
   "metadata": {
    "collapsed": false
   },
   "outputs": [
    {
     "name": "stderr",
     "output_type": "stream",
     "text": [
      "/Users/jacobbarnett/anaconda/lib/python2.7/site-packages/pandas/io/sql.py:588: FutureWarning: The 'mysql' flavor with DBAPI connection is deprecated and will be removed in future versions. MySQL will be further supported with SQLAlchemy engines.\n",
      "  warnings.warn(_MYSQL_WARNING, FutureWarning)\n"
     ]
    }
   ],
   "source": [
    "master_frame = pd.DataFrame(columns = ['date', 'price', 'min_stay', 'property_id'])\n",
    "\n",
    "properties = pd.DataFrame(pd.unique(rates.property_id.ravel()))\n",
    "\n",
    "#loop over properties\n",
    "for j in range(0, len(properties)):\n",
    "\n",
    "    #property level loop\n",
    "    prop_id = properties.iloc[j,0]\n",
    "    this_prop = rates[rates.property_id == prop_id]\n",
    "    prop_frame = pd.DataFrame(columns = ['date', 'price', 'min_stay', 'property_id'])\n",
    "\n",
    "    for i in range(0,len(this_prop)):\n",
    "\n",
    "        start = this_prop.iloc[i,1] #add logic so starts on current day\n",
    "        end = this_prop.iloc[i,2]\n",
    "        dates = []\n",
    "        \n",
    "        #adjust start so that it is not in the past\n",
    "        if start < date.today():\n",
    "            start =  date.today()\n",
    "        else:\n",
    "            start = start\n",
    "\n",
    "        curr = start\n",
    "        while curr < end:\n",
    "            dates.append(curr)\n",
    "            curr += timedelta(days=1)\n",
    "\n",
    "        rate_days = pd.DataFrame(dates)\n",
    "        rate_days.columns = ['date']\n",
    "        rate_days['property_id'] = prop_id\n",
    "        rate_days['price'] = this_prop.iloc[i,3]\n",
    "        rate_days['min_stay'] = this_prop.iloc[i,4]\n",
    "\n",
    "        prop_frame = pd.concat([prop_frame, rate_days])\n",
    "    \n",
    "    master_frame = pd.concat([master_frame, prop_frame])\n",
    "    #print prop_id\n",
    "# prop_frame\n",
    "\n",
    "master_frame.to_sql(con=conn, name='dw_rates_denorm', if_exists='replace', flavor='mysql')\n"
   ]
  },
  {
   "cell_type": "code",
   "execution_count": null,
   "metadata": {
    "collapsed": true
   },
   "outputs": [],
   "source": []
  }
 ],
 "metadata": {
  "kernelspec": {
   "display_name": "Python 2",
   "language": "python",
   "name": "python2"
  },
  "language_info": {
   "codemirror_mode": {
    "name": "ipython",
    "version": 2
   },
   "file_extension": ".py",
   "mimetype": "text/x-python",
   "name": "python",
   "nbconvert_exporter": "python",
   "pygments_lexer": "ipython2",
   "version": "2.7.9"
  }
 },
 "nbformat": 4,
 "nbformat_minor": 0
}
