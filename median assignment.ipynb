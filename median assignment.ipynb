{
 "cells": [
  {
   "cell_type": "code",
   "execution_count": 39,
   "metadata": {
    "collapsed": true
   },
   "outputs": [],
   "source": [
    "data = [165, 213, 189, 187, 165, 148, 251, 308, 151, 132, 199]"
   ]
  },
  {
   "cell_type": "code",
   "execution_count": 41,
   "metadata": {
    "collapsed": false
   },
   "outputs": [],
   "source": [
    "def calc_median(my_array):\n",
    "    \n",
    "    the_length = len(my_array)\n",
    "    the_median = 0\n",
    "    \n",
    "    if the_length % 2 != 0:\n",
    "        the_pos = ((the_length + 1 ) / 2) - 1 #minus 1 for 0 based index\n",
    "        the_median = sorted(my_array)[the_pos] \n",
    "    \n",
    "    else:\n",
    "        pos_1 = (the_length / 2) - 1 #minus 1 for 0 based index\n",
    "        pos_2 = pos_1 + 1\n",
    "        the_median = (sorted(my_array)[pos_1] + sorted(my_array)[pos_2]) / 2\n",
    "        \n",
    "    return the_median"
   ]
  },
  {
   "cell_type": "code",
   "execution_count": 42,
   "metadata": {
    "collapsed": false
   },
   "outputs": [
    {
     "data": {
      "text/plain": [
       "187"
      ]
     },
     "execution_count": 42,
     "metadata": {},
     "output_type": "execute_result"
    }
   ],
   "source": [
    "calc_median(data)"
   ]
  }
 ],
 "metadata": {
  "kernelspec": {
   "display_name": "Python 2",
   "language": "python",
   "name": "python2"
  },
  "language_info": {
   "codemirror_mode": {
    "name": "ipython",
    "version": 2
   },
   "file_extension": ".py",
   "mimetype": "text/x-python",
   "name": "python",
   "nbconvert_exporter": "python",
   "pygments_lexer": "ipython2",
   "version": "2.7.9"
  }
 },
 "nbformat": 4,
 "nbformat_minor": 0
}
