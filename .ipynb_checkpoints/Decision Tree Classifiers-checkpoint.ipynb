{
 "cells": [
  {
   "cell_type": "markdown",
   "metadata": {},
   "source": [
    "#Use Decision Tree to Classify Iris Dataset"
   ]
  },
  {
   "cell_type": "code",
   "execution_count": 5,
   "metadata": {
    "collapsed": false
   },
   "outputs": [
    {
     "name": "stdout",
     "output_type": "stream",
     "text": [
      "Populating the interactive namespace from numpy and matplotlib\n"
     ]
    }
   ],
   "source": [
    "%pylab inline\n",
    "from matplotlib import pyplot as plt\n",
    "\n",
    "from sklearn import datasets, metrics, tree, cross_validation"
   ]
  },
  {
   "cell_type": "code",
   "execution_count": 6,
   "metadata": {
    "collapsed": true
   },
   "outputs": [],
   "source": [
    "iris = datasets.load_iris()"
   ]
  },
  {
   "cell_type": "code",
   "execution_count": 7,
   "metadata": {
    "collapsed": true
   },
   "outputs": [],
   "source": [
    "# Instance of tree\n",
    "myTree = tree.DecisionTreeClassifier()"
   ]
  },
  {
   "cell_type": "code",
   "execution_count": 8,
   "metadata": {
    "collapsed": true
   },
   "outputs": [],
   "source": [
    "# Fitting the model\n",
    "myTree_fit = myTree.fit(iris.data, iris.target)"
   ]
  },
  {
   "cell_type": "code",
   "execution_count": 10,
   "metadata": {
    "collapsed": false
   },
   "outputs": [
    {
     "name": "stdout",
     "output_type": "stream",
     "text": [
      "DecisionTreeClassifier(class_weight=None, criterion='gini', max_depth=None,\n",
      "            max_features=None, max_leaf_nodes=None, min_samples_leaf=1,\n",
      "            min_samples_split=2, min_weight_fraction_leaf=0.0,\n",
      "            random_state=None, splitter='best')\n"
     ]
    }
   ],
   "source": [
    "print myTree_fit"
   ]
  },
  {
   "cell_type": "code",
   "execution_count": 11,
   "metadata": {
    "collapsed": true
   },
   "outputs": [],
   "source": [
    "y_pred = myTree_fit.predict(iris.data)"
   ]
  },
  {
   "cell_type": "code",
   "execution_count": 12,
   "metadata": {
    "collapsed": false
   },
   "outputs": [
    {
     "data": {
      "text/plain": [
       "array([0, 0, 0, 0, 0, 0, 0, 0, 0, 0, 0, 0, 0, 0, 0, 0, 0, 0, 0, 0, 0, 0, 0,\n",
       "       0, 0, 0, 0, 0, 0, 0, 0, 0, 0, 0, 0, 0, 0, 0, 0, 0, 0, 0, 0, 0, 0, 0,\n",
       "       0, 0, 0, 0, 1, 1, 1, 1, 1, 1, 1, 1, 1, 1, 1, 1, 1, 1, 1, 1, 1, 1, 1,\n",
       "       1, 1, 1, 1, 1, 1, 1, 1, 1, 1, 1, 1, 1, 1, 1, 1, 1, 1, 1, 1, 1, 1, 1,\n",
       "       1, 1, 1, 1, 1, 1, 1, 1, 2, 2, 2, 2, 2, 2, 2, 2, 2, 2, 2, 2, 2, 2, 2,\n",
       "       2, 2, 2, 2, 2, 2, 2, 2, 2, 2, 2, 2, 2, 2, 2, 2, 2, 2, 2, 2, 2, 2, 2,\n",
       "       2, 2, 2, 2, 2, 2, 2, 2, 2, 2, 2, 2])"
      ]
     },
     "execution_count": 12,
     "metadata": {},
     "output_type": "execute_result"
    }
   ],
   "source": [
    "y_pred"
   ]
  },
  {
   "cell_type": "code",
   "execution_count": 13,
   "metadata": {
    "collapsed": false
   },
   "outputs": [
    {
     "name": "stdout",
     "output_type": "stream",
     "text": [
      "Number of mislabeled points 0\n"
     ]
    }
   ],
   "source": [
    "#I know we should not have done this but how did we do?\n",
    "print('Number of mislabeled points %d' % (iris.target != y_pred).sum())"
   ]
  },
  {
   "cell_type": "code",
   "execution_count": 14,
   "metadata": {
    "collapsed": false
   },
   "outputs": [
    {
     "name": "stdout",
     "output_type": "stream",
     "text": [
      "Absolutely ridiculous overfit score: 1\n"
     ]
    }
   ],
   "source": [
    "print('Absolutely ridiculous overfit score: %d' % (myTree_fit.score(iris.data, iris.target)))"
   ]
  },
  {
   "cell_type": "markdown",
   "metadata": {},
   "source": [
    "#Confusion Matrix\n"
   ]
  },
  {
   "cell_type": "code",
   "execution_count": 15,
   "metadata": {
    "collapsed": false
   },
   "outputs": [
    {
     "data": {
      "text/plain": [
       "array([[50,  0,  0],\n",
       "       [ 0, 50,  0],\n",
       "       [ 0,  0, 50]])"
      ]
     },
     "execution_count": 15,
     "metadata": {},
     "output_type": "execute_result"
    }
   ],
   "source": [
    "metrics.confusion_matrix(iris.target, y_pred)"
   ]
  },
  {
   "cell_type": "code",
   "execution_count": 16,
   "metadata": {
    "collapsed": false
   },
   "outputs": [
    {
     "name": "stdout",
     "output_type": "stream",
     "text": [
      "             precision    recall  f1-score   support\n",
      "\n",
      "          0       1.00      1.00      1.00        50\n",
      "          1       1.00      1.00      1.00        50\n",
      "          2       1.00      1.00      1.00        50\n",
      "\n",
      "avg / total       1.00      1.00      1.00       150\n",
      "\n"
     ]
    }
   ],
   "source": [
    "print metrics.classification_report(iris.target, y_pred)"
   ]
  },
  {
   "cell_type": "code",
   "execution_count": 21,
   "metadata": {
    "collapsed": false
   },
   "outputs": [
    {
     "name": "stdout",
     "output_type": "stream",
     "text": [
      "[[35  0  0]\n",
      " [ 0 37  0]\n",
      " [ 0  0 33]]\n",
      "             precision    recall  f1-score   support\n",
      "\n",
      "          0       1.00      1.00      1.00        35\n",
      "          1       1.00      1.00      1.00        37\n",
      "          2       1.00      1.00      1.00        33\n",
      "\n",
      "avg / total       1.00      1.00      1.00       105\n",
      "\n",
      "[[15  0  0]\n",
      " [ 0 12  1]\n",
      " [ 0  0 17]]\n",
      "             precision    recall  f1-score   support\n",
      "\n",
      "          0       1.00      1.00      1.00        15\n",
      "          1       1.00      0.92      0.96        13\n",
      "          2       0.94      1.00      0.97        17\n",
      "\n",
      "avg / total       0.98      0.98      0.98        45\n",
      "\n"
     ]
    }
   ],
   "source": [
    "#Initialise Model\n",
    "clf = tree.DecisionTreeClassifier()\n",
    "\n",
    "#Split data into training and test sets\n",
    "x_train, x_test, y_train, y_test = cross_validation.train_test_split(iris.data, iris.target, test_size=.3)\n",
    "\n",
    "#fit model\n",
    "clf.fit(x_train, y_train)\n",
    "\n",
    "#print output for training data\n",
    "print metrics.confusion_matrix(y_train, clf.predict(x_train))\n",
    "print metrics.classification_report(y_train, clf.predict(x_train))\n",
    "\n",
    "#print output for test data\n",
    "print metrics.confusion_matrix(y_test, clf.predict(x_test))\n",
    "print metrics.classification_report(y_test,clf.predict(x_test))"
   ]
  },
  {
   "cell_type": "code",
   "execution_count": 22,
   "metadata": {
    "collapsed": false
   },
   "outputs": [
    {
     "name": "stdout",
     "output_type": "stream",
     "text": [
      "[[35  0  0]\n",
      " [ 0 35  2]\n",
      " [ 0  1 32]]\n",
      "[[15  0  0]\n",
      " [ 0 12  1]\n",
      " [ 0  0 17]]\n"
     ]
    }
   ],
   "source": [
    "#Change parameters of \n",
    "clf.set_params(min_samples_leaf=5)\n",
    "clf.set_params(max_depth=5)\n",
    "\n",
    "#refit model\n",
    "clf.fit(x_train, y_train)\n",
    "print metrics.confusion_matrix(y_train, clf.predict(x_train))\n",
    "print metrics.confusion_matrix(y_test, clf.predict(x_test))"
   ]
  },
  {
   "cell_type": "code",
   "execution_count": 37,
   "metadata": {
    "collapsed": false
   },
   "outputs": [
    {
     "name": "stdout",
     "output_type": "stream",
     "text": [
      "(0, 'l', 2.4500000476837158, 'petal length (cm)')\n",
      "1\n",
      "(0, 'r', 2.4500000476837158, 'petal length (cm)')\n",
      "(2, 'l', 1.75, 'petal width (cm)')\n",
      "(3, 'l', 4.9499998092651367, 'petal length (cm)')\n",
      "(4, 'l', 1.6500000953674316, 'petal width (cm)')\n",
      "5\n",
      "(0, 'r', 2.4500000476837158, 'petal length (cm)')\n",
      "(2, 'l', 1.75, 'petal width (cm)')\n",
      "(3, 'l', 4.9499998092651367, 'petal length (cm)')\n",
      "(4, 'r', 1.6500000953674316, 'petal width (cm)')\n",
      "6\n",
      "(0, 'r', 2.4500000476837158, 'petal length (cm)')\n",
      "(2, 'l', 1.75, 'petal width (cm)')\n",
      "(3, 'r', 4.9499998092651367, 'petal length (cm)')\n",
      "(7, 'l', 1.5499999523162842, 'petal width (cm)')\n",
      "8\n",
      "(0, 'r', 2.4500000476837158, 'petal length (cm)')\n",
      "(2, 'l', 1.75, 'petal width (cm)')\n",
      "(3, 'r', 4.9499998092651367, 'petal length (cm)')\n",
      "(7, 'r', 1.5499999523162842, 'petal width (cm)')\n",
      "(9, 'l', 5.4499998092651367, 'petal length (cm)')\n",
      "10\n",
      "(0, 'r', 2.4500000476837158, 'petal length (cm)')\n",
      "(2, 'l', 1.75, 'petal width (cm)')\n",
      "(3, 'r', 4.9499998092651367, 'petal length (cm)')\n",
      "(7, 'r', 1.5499999523162842, 'petal width (cm)')\n",
      "(9, 'r', 5.4499998092651367, 'petal length (cm)')\n",
      "11\n",
      "(0, 'r', 2.4500000476837158, 'petal length (cm)')\n",
      "(2, 'r', 1.75, 'petal width (cm)')\n",
      "(12, 'l', 4.8500003814697266, 'petal length (cm)')\n",
      "(13, 'l', 5.9499998092651367, 'sepal length (cm)')\n",
      "14\n",
      "(0, 'r', 2.4500000476837158, 'petal length (cm)')\n",
      "(2, 'r', 1.75, 'petal width (cm)')\n",
      "(12, 'l', 4.8500003814697266, 'petal length (cm)')\n",
      "(13, 'r', 5.9499998092651367, 'sepal length (cm)')\n",
      "15\n",
      "(0, 'r', 2.4500000476837158, 'petal length (cm)')\n",
      "(2, 'r', 1.75, 'petal width (cm)')\n",
      "(12, 'r', 4.8500003814697266, 'petal length (cm)')\n",
      "16\n"
     ]
    }
   ],
   "source": [
    "def get_lineage(tree, feature_names):\n",
    "    left     = tree.tree_.children_left\n",
    "    right    = tree.tree_.children_right\n",
    "    threshold= tree.tree_.threshold\n",
    "    features = [feature_names[i] for i in tree.tree_.feature]\n",
    "    \n",
    "    idx = np.argwhere(left == -1)[:,0]\n",
    "    \n",
    "    def recurse(left, right, child, lineage = None):\n",
    "        if lineage is None:\n",
    "            lineage = [child]\n",
    "        if child in left:\n",
    "            parent = np.where(left == child)[0].item()\n",
    "            split = 'l'\n",
    "        else:\n",
    "            parent = np.where(right == child)[0].item()\n",
    "            split = 'r'\n",
    "            \n",
    "        lineage.append((parent, split, threshold[parent], features[parent]))\n",
    "        \n",
    "        if parent == 0:\n",
    "            lineage.reverse()\n",
    "            return lineage\n",
    "        else:\n",
    "            return recurse(left,right, parent, lineage)\n",
    "        \n",
    "    for child in idx:\n",
    "        for node in recurse(left, right, child):\n",
    "            print node\n",
    "\n",
    "get_lineage(myTree_fit, iris.feature_names)"
   ]
  },
  {
   "cell_type": "code",
   "execution_count": 25,
   "metadata": {
    "collapsed": true
   },
   "outputs": [],
   "source": [
    "import StringIO\n",
    "import pydot\n",
    "import pyparsing"
   ]
  },
  {
   "cell_type": "code",
   "execution_count": 38,
   "metadata": {
    "collapsed": false
   },
   "outputs": [
    {
     "name": "stdout",
     "output_type": "stream",
     "text": [
      "\n",
      "image created!\n"
     ]
    }
   ],
   "source": [
    "dot_data = StringIO.StringIO()\n",
    "tree.export_graphviz(myTree_fit, out_file = dot_data)\n",
    "graph = pydot.graph_from_dot_data(dot_data.getvalue())\n",
    "graph.write_pdf('iris_decisiontree.pdf')\n",
    "print '\\nimage created!'\n"
   ]
  },
  {
   "cell_type": "code",
   "execution_count": null,
   "metadata": {
    "collapsed": true
   },
   "outputs": [],
   "source": []
  },
  {
   "cell_type": "code",
   "execution_count": null,
   "metadata": {
    "collapsed": true
   },
   "outputs": [],
   "source": []
  }
 ],
 "metadata": {
  "kernelspec": {
   "display_name": "Python 2",
   "language": "python",
   "name": "python2"
  },
  "language_info": {
   "codemirror_mode": {
    "name": "ipython",
    "version": 2
   },
   "file_extension": ".py",
   "mimetype": "text/x-python",
   "name": "python",
   "nbconvert_exporter": "python",
   "pygments_lexer": "ipython2",
   "version": "2.7.10"
  }
 },
 "nbformat": 4,
 "nbformat_minor": 0
}
