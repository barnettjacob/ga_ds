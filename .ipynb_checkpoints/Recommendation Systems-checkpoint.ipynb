{
 "cells": [
  {
   "cell_type": "markdown",
   "metadata": {},
   "source": [
    "##Content Based Filter"
   ]
  },
  {
   "cell_type": "code",
   "execution_count": 1,
   "metadata": {
    "collapsed": true
   },
   "outputs": [],
   "source": [
    "# Let us implement a content-based filter\n",
    "\n",
    "import numpy as np\n",
    "import pandas as pd"
   ]
  },
  {
   "cell_type": "code",
   "execution_count": 9,
   "metadata": {
    "collapsed": true
   },
   "outputs": [],
   "source": [
    "FilmNames = ['Nemo', 'Mission', 'Jiro']\n",
    "Features = ['BoxOffice', 'KidsFilm', 'FamousActors']"
   ]
  },
  {
   "cell_type": "code",
   "execution_count": 10,
   "metadata": {
    "collapsed": true
   },
   "outputs": [],
   "source": [
    "#Now let us rate the features of the film\n",
    "Nemo = np.array([5, 5, 2])\n",
    "Mission = np.array([3, -5, 5])\n",
    "Jiro = np.array([-4, -5, -5])"
   ]
  },
  {
   "cell_type": "code",
   "execution_count": 11,
   "metadata": {
    "collapsed": false
   },
   "outputs": [
    {
     "data": {
      "text/plain": [
       "array([[ 5,  5,  2],\n",
       "       [ 3, -5,  5],\n",
       "       [-4, -5, -5]])"
      ]
     },
     "execution_count": 11,
     "metadata": {},
     "output_type": "execute_result"
    }
   ],
   "source": [
    "f_array = np.vstack([Nemo, Mission, Jiro])\n",
    "f_array"
   ]
  },
  {
   "cell_type": "code",
   "execution_count": 12,
   "metadata": {
    "collapsed": false
   },
   "outputs": [
    {
     "data": {
      "text/html": [
       "<div style=\"max-height:1000px;max-width:1500px;overflow:auto;\">\n",
       "<table border=\"1\" class=\"dataframe\">\n",
       "  <thead>\n",
       "    <tr style=\"text-align: right;\">\n",
       "      <th></th>\n",
       "      <th>BoxOffice</th>\n",
       "      <th>KidsFilm</th>\n",
       "      <th>FamousActors</th>\n",
       "    </tr>\n",
       "  </thead>\n",
       "  <tbody>\n",
       "    <tr>\n",
       "      <th>Nemo</th>\n",
       "      <td>5</td>\n",
       "      <td>5</td>\n",
       "      <td>2</td>\n",
       "    </tr>\n",
       "    <tr>\n",
       "      <th>Mission</th>\n",
       "      <td>3</td>\n",
       "      <td>-5</td>\n",
       "      <td>5</td>\n",
       "    </tr>\n",
       "    <tr>\n",
       "      <th>Jiro</th>\n",
       "      <td>-4</td>\n",
       "      <td>-5</td>\n",
       "      <td>-5</td>\n",
       "    </tr>\n",
       "  </tbody>\n",
       "</table>\n",
       "</div>"
      ],
      "text/plain": [
       "         BoxOffice  KidsFilm  FamousActors\n",
       "Nemo             5         5             2\n",
       "Mission          3        -5             5\n",
       "Jiro            -4        -5            -5"
      ]
     },
     "execution_count": 12,
     "metadata": {},
     "output_type": "execute_result"
    }
   ],
   "source": [
    "#Let us create a df\n",
    "film_df = pd.DataFrame(f_array, index = FilmNames, columns = Features)\n",
    "film_df"
   ]
  },
  {
   "cell_type": "code",
   "execution_count": 17,
   "metadata": {
    "collapsed": false
   },
   "outputs": [],
   "source": [
    "#Define Users\n",
    "\n",
    "UserNames = ['Jason', 'Paula', 'Sam']\n",
    "Jason = np.array([-3, 3, -3])\n",
    "Paula = np.array([1, 3, 2])\n",
    "Sam = np.array([1, -2, 2])\n",
    "\n",
    "u_array = np.vstack([Jason, Paula, Sam])"
   ]
  },
  {
   "cell_type": "code",
   "execution_count": 18,
   "metadata": {
    "collapsed": false
   },
   "outputs": [
    {
     "data": {
      "text/plain": [
       "array([[-3,  3, -3],\n",
       "       [ 1,  3,  2],\n",
       "       [ 1, -2,  2]])"
      ]
     },
     "execution_count": 18,
     "metadata": {},
     "output_type": "execute_result"
    }
   ],
   "source": [
    "u_array"
   ]
  },
  {
   "cell_type": "code",
   "execution_count": 19,
   "metadata": {
    "collapsed": false
   },
   "outputs": [
    {
     "data": {
      "text/html": [
       "<div style=\"max-height:1000px;max-width:1500px;overflow:auto;\">\n",
       "<table border=\"1\" class=\"dataframe\">\n",
       "  <thead>\n",
       "    <tr style=\"text-align: right;\">\n",
       "      <th></th>\n",
       "      <th>BoxOffice</th>\n",
       "      <th>KidsFilm</th>\n",
       "      <th>FamousActors</th>\n",
       "    </tr>\n",
       "  </thead>\n",
       "  <tbody>\n",
       "    <tr>\n",
       "      <th>Jason</th>\n",
       "      <td>-3</td>\n",
       "      <td>3</td>\n",
       "      <td>-3</td>\n",
       "    </tr>\n",
       "    <tr>\n",
       "      <th>Paula</th>\n",
       "      <td>1</td>\n",
       "      <td>3</td>\n",
       "      <td>2</td>\n",
       "    </tr>\n",
       "    <tr>\n",
       "      <th>Sam</th>\n",
       "      <td>1</td>\n",
       "      <td>-2</td>\n",
       "      <td>2</td>\n",
       "    </tr>\n",
       "  </tbody>\n",
       "</table>\n",
       "</div>"
      ],
      "text/plain": [
       "       BoxOffice  KidsFilm  FamousActors\n",
       "Jason         -3         3            -3\n",
       "Paula          1         3             2\n",
       "Sam            1        -2             2"
      ]
     },
     "execution_count": 19,
     "metadata": {},
     "output_type": "execute_result"
    }
   ],
   "source": [
    "# IN a apndas dataframe\n",
    "\n",
    "user_df = pd.DataFrame(u_array, index = UserNames, columns = Features)\n",
    "user_df"
   ]
  },
  {
   "cell_type": "code",
   "execution_count": 20,
   "metadata": {
    "collapsed": false
   },
   "outputs": [
    {
     "data": {
      "text/plain": [
       "Nemo       5\n",
       "Mission   -5\n",
       "Jiro      -5\n",
       "Name: KidsFilm, dtype: int64"
      ]
     },
     "execution_count": 20,
     "metadata": {},
     "output_type": "execute_result"
    }
   ],
   "source": [
    "# In a pandas dataframe\n",
    "\n",
    "film_df['KidsFilm']"
   ]
  },
  {
   "cell_type": "code",
   "execution_count": 21,
   "metadata": {
    "collapsed": false
   },
   "outputs": [
    {
     "data": {
      "text/html": [
       "<div style=\"max-height:1000px;max-width:1500px;overflow:auto;\">\n",
       "<table border=\"1\" class=\"dataframe\">\n",
       "  <thead>\n",
       "    <tr style=\"text-align: right;\">\n",
       "      <th></th>\n",
       "      <th>BoxOffice</th>\n",
       "      <th>KidsFilm</th>\n",
       "      <th>FamousActors</th>\n",
       "    </tr>\n",
       "  </thead>\n",
       "  <tbody>\n",
       "    <tr>\n",
       "      <th>Nemo</th>\n",
       "      <td>5</td>\n",
       "      <td>5</td>\n",
       "      <td>2</td>\n",
       "    </tr>\n",
       "  </tbody>\n",
       "</table>\n",
       "</div>"
      ],
      "text/plain": [
       "      BoxOffice  KidsFilm  FamousActors\n",
       "Nemo          5         5             2"
      ]
     },
     "execution_count": 21,
     "metadata": {},
     "output_type": "execute_result"
    }
   ],
   "source": [
    "film_df[0:1]"
   ]
  },
  {
   "cell_type": "code",
   "execution_count": 22,
   "metadata": {
    "collapsed": false
   },
   "outputs": [
    {
     "data": {
      "text/plain": [
       "BoxOffice       5\n",
       "KidsFilm        5\n",
       "FamousActors    2\n",
       "Name: Nemo, dtype: int64"
      ]
     },
     "execution_count": 22,
     "metadata": {},
     "output_type": "execute_result"
    }
   ],
   "source": [
    "film_df.loc['Nemo']"
   ]
  },
  {
   "cell_type": "code",
   "execution_count": 23,
   "metadata": {
    "collapsed": true
   },
   "outputs": [],
   "source": [
    "# Let us create our recommender\n",
    "def content_recomm(user, film):\n",
    "    return np.dot(user_df.loc[user].values, film_df.loc[film].values)"
   ]
  },
  {
   "cell_type": "code",
   "execution_count": 24,
   "metadata": {
    "collapsed": false
   },
   "outputs": [
    {
     "name": "stdout",
     "output_type": "stream",
     "text": [
      "-6\n",
      "-39\n",
      "12\n"
     ]
    }
   ],
   "source": [
    "print content_recomm('Jason', 'Nemo')\n",
    "print content_recomm('Jason', 'Mission')\n",
    "print content_recomm('Jason', 'Jiro')"
   ]
  },
  {
   "cell_type": "code",
   "execution_count": 25,
   "metadata": {
    "collapsed": false
   },
   "outputs": [
    {
     "name": "stdout",
     "output_type": "stream",
     "text": [
      "24\n",
      "-2\n",
      "-29\n"
     ]
    }
   ],
   "source": [
    "print content_recomm('Paula', 'Nemo')\n",
    "print content_recomm('Paula', 'Mission')\n",
    "print content_recomm('Paula', 'Jiro')"
   ]
  },
  {
   "cell_type": "code",
   "execution_count": 26,
   "metadata": {
    "collapsed": false
   },
   "outputs": [
    {
     "name": "stdout",
     "output_type": "stream",
     "text": [
      "-1\n",
      "23\n",
      "-4\n"
     ]
    }
   ],
   "source": [
    "print content_recomm('Sam', 'Nemo')\n",
    "print content_recomm('Sam', 'Mission')\n",
    "print content_recomm('Sam', 'Jiro')"
   ]
  },
  {
   "cell_type": "markdown",
   "metadata": {},
   "source": [
    "##SVD"
   ]
  },
  {
   "cell_type": "code",
   "execution_count": 27,
   "metadata": {
    "collapsed": false
   },
   "outputs": [
    {
     "name": "stdout",
     "output_type": "stream",
     "text": [
      "Populating the interactive namespace from numpy and matplotlib\n",
      "The number of elements in M is 375\n"
     ]
    }
   ],
   "source": [
    "#We are going to play with data compression in an image\n",
    "%pylab inline\n",
    "\n",
    "M = np.ones((25,15))\n",
    "M[5:8, 2:13] = 0\n",
    "M[17:20 ,2:13] = 0\n",
    "M[8:17, 2:5] = 0\n",
    "M[8:17, -5:-2] = 0\n",
    "\n",
    "print 'The number of elements in M is {0}'.format(np.size(M))"
   ]
  },
  {
   "cell_type": "code",
   "execution_count": 30,
   "metadata": {
    "collapsed": false
   },
   "outputs": [
    {
     "data": {
      "text/plain": [
       "<function matplotlib.pyplot.show>"
      ]
     },
     "execution_count": 30,
     "metadata": {},
     "output_type": "execute_result"
    },
    {
     "data": {
      "image/png": "[encoded data removed]",
      "text/plain": [
       "<matplotlib.figure.Figure at 0x108fa0350>"
      ]
     },
     "metadata": {},
     "output_type": "display_data"
    }
   ],
   "source": [
    "#Let us visualise the image\n",
    "fig = plt.figure()\n",
    "ax = fig.add_subplot(111)\n",
    "ax.set_aspect('equal')\n",
    "plt.imshow(M, cmap = plt.cm.ocean)\n",
    "plt.colorbar()\n",
    "plt.show"
   ]
  },
  {
   "cell_type": "code",
   "execution_count": 31,
   "metadata": {
    "collapsed": false
   },
   "outputs": [
    {
     "name": "stdout",
     "output_type": "stream",
     "text": [
      "(25, 25)\n",
      "(15,)\n",
      "(15, 15)\n"
     ]
    }
   ],
   "source": [
    "#Now the magic, let us calculate the SVD\n",
    "\n",
    "U, s, V = np.linalg.svd(M)\n",
    "print shape(U)\n",
    "print shape(s)\n",
    "print shape(V)"
   ]
  },
  {
   "cell_type": "code",
   "execution_count": 32,
   "metadata": {
    "collapsed": false
   },
   "outputs": [
    {
     "data": {
      "text/plain": [
       "array([  1.47242531e+01,   5.21662293e+00,   3.31409370e+00,\n",
       "         6.50854725e-16,   1.80117819e-16,   1.40381004e-16,\n",
       "         1.51119402e-32,   7.42165222e-33,   1.95312370e-33,\n",
       "         8.27439921e-49,   1.88278125e-49,   2.61731759e-50,\n",
       "         2.06789184e-65,   1.91845405e-66,   6.33417154e-67])"
      ]
     },
     "execution_count": 32,
     "metadata": {},
     "output_type": "execute_result"
    }
   ],
   "source": [
    "s"
   ]
  },
  {
   "cell_type": "code",
   "execution_count": 34,
   "metadata": {
    "collapsed": false
   },
   "outputs": [
    {
     "data": {
      "text/plain": [
       "matrix([[ 14.72425306,   0.        ,   0.        ],\n",
       "        [  0.        ,   5.21662293,   0.        ],\n",
       "        [  0.        ,   0.        ,   3.3140937 ]])"
      ]
     },
     "execution_count": 34,
     "metadata": {},
     "output_type": "execute_result"
    }
   ],
   "source": [
    "#Let us keep Don even happier and keep 3 singular values\n",
    "\n",
    "S = 3\n",
    "Sig = mat(np.eye(S) * s[:S])\n",
    "Sig"
   ]
  },
  {
   "cell_type": "code",
   "execution_count": 36,
   "metadata": {
    "collapsed": false
   },
   "outputs": [
    {
     "name": "stdout",
     "output_type": "stream",
     "text": [
      "(25, 3)\n",
      "(3, 15)\n",
      "The number of reduced elements is 123\n"
     ]
    }
   ],
   "source": [
    "#Reduce U and V\n",
    "U_reduced = U[:,:S]\n",
    "V_reduced = V[:S, :]\n",
    "print shape(U_reduced)\n",
    "print shape(V_reduced)\n",
    "\n",
    "print 'The number of reduced elements is {0}'.format(S+size(U_reduced) + size(V_reduced))"
   ]
  },
  {
   "cell_type": "code",
   "execution_count": 37,
   "metadata": {
    "collapsed": false
   },
   "outputs": [
    {
     "data": {
      "text/plain": [
       "<function matplotlib.pyplot.show>"
      ]
     },
     "execution_count": 37,
     "metadata": {},
     "output_type": "execute_result"
    },
    {
     "data": {
      "image/png": "[encoded data removed]",
      "text/plain": [
       "<matplotlib.figure.Figure at 0x109cf22d0>"
      ]
     },
     "metadata": {},
     "output_type": "display_data"
    }
   ],
   "source": [
    "#Reconstructing the image with the ZERO\n",
    "\n",
    "M_rec = U_reduced * Sig * V_reduced\n",
    "\n",
    "fig = plt.figure()\n",
    "ax = fig.add_subplot(111)\n",
    "ax.set_aspect('equal')\n",
    "plt.imshow(M_rec, cmap = plt.cm.ocean)\n",
    "plt.colorbar()\n",
    "plt.show"
   ]
  },
  {
   "cell_type": "code",
   "execution_count": 42,
   "metadata": {
    "collapsed": false
   },
   "outputs": [
    {
     "data": {
      "text/plain": [
       "matrix([[ 14.72425306,   0.        ],\n",
       "        [  0.        ,   5.21662293]])"
      ]
     },
     "execution_count": 42,
     "metadata": {},
     "output_type": "execute_result"
    }
   ],
   "source": [
    "S = 2\n",
    "Sig = mat(np.eye(S) * s[:S])\n",
    "Sig"
   ]
  },
  {
   "cell_type": "code",
   "execution_count": 43,
   "metadata": {
    "collapsed": false
   },
   "outputs": [
    {
     "name": "stdout",
     "output_type": "stream",
     "text": [
      "(25, 2)\n",
      "(2, 15)\n",
      "The number of reduced elements is 82\n"
     ]
    }
   ],
   "source": [
    "#Reduce U and V\n",
    "U_reduced = U[:,:S]\n",
    "V_reduced = V[:S, :]\n",
    "print shape(U_reduced)\n",
    "print shape(V_reduced)\n",
    "\n",
    "print 'The number of reduced elements is {0}'.format(S+size(U_reduced) + size(V_reduced))"
   ]
  },
  {
   "cell_type": "code",
   "execution_count": 44,
   "metadata": {
    "collapsed": false
   },
   "outputs": [
    {
     "data": {
      "text/plain": [
       "<function matplotlib.pyplot.show>"
      ]
     },
     "execution_count": 44,
     "metadata": {},
     "output_type": "execute_result"
    },
    {
     "data": {
      "image/png": "[encoded data removed]",
      "text/plain": [
       "<matplotlib.figure.Figure at 0x109a8e7d0>"
      ]
     },
     "metadata": {},
     "output_type": "display_data"
    }
   ],
   "source": [
    "#Reconstructing the image with the ZERO\n",
    "\n",
    "M_rec = U_reduced * Sig * V_reduced\n",
    "\n",
    "fig = plt.figure()\n",
    "ax = fig.add_subplot(111)\n",
    "ax.set_aspect('equal')\n",
    "plt.imshow(M_rec, cmap = plt.cm.ocean)\n",
    "plt.colorbar()\n",
    "plt.show"
   ]
  },
  {
   "cell_type": "markdown",
   "metadata": {},
   "source": [
    "##Recommendation System"
   ]
  },
  {
   "cell_type": "code",
   "execution_count": 46,
   "metadata": {
    "collapsed": true
   },
   "outputs": [],
   "source": [
    "# coding: utf-8\n",
    " \n",
    "# # Recommendation System\n",
    " \n",
    "# ### Dr J Rogel-Salazar\n",
    " \n",
    "# In[1]:\n",
    " \n",
    "#Let us bring the modules we need\n",
    " \n",
    "import recsys.algorithm\n",
    "from recsys.algorithm.factorize import SVD\n",
    "from recsys.datamodel.data import Data\n",
    "from recsys.evaluation.prediction import RMSE, MAE\n",
    "from recsys.utils.svdlibc import SVDLIBC\n",
    " "
   ]
  },
  {
   "cell_type": "code",
   "execution_count": 47,
   "metadata": {
    "collapsed": true
   },
   "outputs": [],
   "source": [
    " \n",
    "# In[2]:\n",
    " \n",
    "# enable verbose output\n",
    "recsys.algorithm.VERBOSE = True"
   ]
  },
  {
   "cell_type": "code",
   "execution_count": null,
   "metadata": {
    "collapsed": true
   },
   "outputs": [],
   "source": [
    " \n",
    " \n",
    "# In[3]:\n",
    "# Formatting the data\n",
    "svd = SVD()\n",
    "recsys.algorithm.VERBOSE = True\n",
    " \n",
    "    # load movielens data\n",
    "dat_file = './ml-1m/ratings.dat'\n",
    "svd.load_data(filename=dat_file, sep='::', format={'col':0, 'row':1, 'value':2, 'ids': int})\n",
    " # About format parameter:\n",
    "        #   'row': 1 -> Rows in matrix come from column 1 in ratings.dat file\n",
    "        #   'col': 0 -> Cols in matrix come from column 0 in ratings.dat file\n",
    "        #   'value': 2 -> Values (Mij) in matrix come from column 2 in ratings.dat\n",
    "        #   file\n",
    "        #   'ids': int -> Ids (row and col ids) are integers (not strings)"
   ]
  },
  {
   "cell_type": "code",
   "execution_count": null,
   "metadata": {
    "collapsed": true
   },
   "outputs": [],
   "source": [
    " \n",
    "# In[4]:\n",
    " \n",
    "# compute svd\n",
    "k = 100\n",
    "svd.compute(k=k, min_values=10, pre_normalize=None, mean_center=True,\n",
    "    post_normalize=True)\n",
    " "
   ]
  },
  {
   "cell_type": "code",
   "execution_count": null,
   "metadata": {
    "collapsed": true
   },
   "outputs": [],
   "source": [
    " \n",
    "# In[5]:\n",
    " \n",
    "# movie id's\n",
    "ITEMID1 = 1      # toy story\n",
    "ITEMID2 = 1221   # godfather II\n",
    " \n",
    "# How similar are these films\n",
    "svd.similarity(ITEMID1, ITEMID2)"
   ]
  },
  {
   "cell_type": "code",
   "execution_count": null,
   "metadata": {
    "collapsed": true
   },
   "outputs": [],
   "source": [
    " \n",
    " \n",
    "# In[6]:\n",
    " \n",
    "# What about \n",
    "ITEMID3 = 2355 # A bug's life\n",
    "svd.similarity(ITEMID1, ITEMID3)\n",
    " \n",
    " "
   ]
  },
  {
   "cell_type": "code",
   "execution_count": null,
   "metadata": {
    "collapsed": true
   },
   "outputs": [],
   "source": [
    "# In[7]:\n",
    " \n",
    "# We cen get films similar to Toy Story\n",
    "svd.similar(ITEMID1)\n",
    " "
   ]
  },
  {
   "cell_type": "code",
   "execution_count": null,
   "metadata": {
    "collapsed": true
   },
   "outputs": [],
   "source": [
    " \n",
    "# In[8]:\n",
    " \n",
    "# Let us predict the rating for a user and a movie\n",
    "def WhatRating(USERID, ITEMID):\n",
    "    # get movies similar to film with ITEMID\n",
    "    svd.similar(ITEMID)\n",
    " \n",
    "    # get predicted rating for given user & movie\n",
    "    MIN_RATING = 0.0\n",
    "    MAX_RATING = 5.0\n",
    " \n",
    "    # get predicted rating\n",
    "    pred = svd.predict(ITEMID, USERID, MIN_RATING, MAX_RATING)\n",
    "    actual = svd.get_matrix().value(ITEMID, USERID)\n",
    "    print 'predicted rating = {0}'.format(pred)\n",
    "    print 'actual rating = {0}'.format(actual)\n",
    " "
   ]
  },
  {
   "cell_type": "code",
   "execution_count": null,
   "metadata": {
    "collapsed": true
   },
   "outputs": [],
   "source": [
    " \n",
    "# In[16]:\n",
    " \n",
    "USERID = 1\n",
    "ITEMID = 588\n",
    "WhatRating(USERID, ITEMID)"
   ]
  },
  {
   "cell_type": "code",
   "execution_count": null,
   "metadata": {
    "collapsed": true
   },
   "outputs": [],
   "source": [
    " \n",
    " \n",
    "# In[14]:\n",
    " \n",
    "# Furthermore, we can recommend (non-rated) items to a user:\n",
    "USERID = 1\n",
    "svd.recommend(USERID, is_row=False) #cols are users and rows are items, thus we set is_row=False\n",
    " "
   ]
  },
  {
   "cell_type": "code",
   "execution_count": null,
   "metadata": {
    "collapsed": true
   },
   "outputs": [],
   "source": [
    " \n",
    "# In[17]:\n",
    " \n",
    "# Alternatively, who should go and see Toy Story \n",
    "#(e.g. which users -that have not rated Toy Story- would give it a high rating?)\n",
    "svd.recommend(ITEMID1)\n",
    " "
   ]
  },
  {
   "cell_type": "code",
   "execution_count": null,
   "metadata": {
    "collapsed": false
   },
   "outputs": [],
   "source": [
    " \n",
    "# In[18]:\n",
    " \n",
    "# An example from the documentation\n",
    "# http://ocelma.net/software/python-recsys/build/html/examples.html\n",
    "def ex1(dat_file='./ml-1m/ratings.dat',\n",
    "        pct_train=0.5):\n",
    " \n",
    "    data = Data()\n",
    "    data.load(dat_file, sep='::', format={'col':0, 'row':1, 'value':2,'ids':int})\n",
    "        \n",
    " \n",
    "    # create train/test split\n",
    "    train, test = data.split_train_test(percent=pct_train)\n",
    " \n",
    "    # create svd\n",
    "    K=100\n",
    "    svd = SVD()\n",
    "    svd.set_data(train)\n",
    "    svd.compute(k=K, min_values=5, pre_normalize=None, mean_center=True, post_normalize=True)\n",
    " \n",
    "    # evaluate performance\n",
    "    rmse = RMSE()\n",
    "    mae = MAE()\n",
    "    for rating, item_id, user_id in test.get():\n",
    "        try:\n",
    "            pred_rating = svd.predict(item_id, user_id)\n",
    "            rmse.add(rating, pred_rating)\n",
    "            mae.add(rating, pred_rating)\n",
    "        except KeyError:\n",
    "            continue\n",
    " \n",
    "    print 'RMSE=%s' % rmse.compute()\n",
    "    print 'MAE=%s' % mae.compute()\n",
    " \n",
    " "
   ]
  },
  {
   "cell_type": "code",
   "execution_count": null,
   "metadata": {
    "collapsed": true
   },
   "outputs": [],
   "source": []
  }
 ],
 "metadata": {
  "kernelspec": {
   "display_name": "Python 2",
   "language": "python",
   "name": "python2"
  },
  "language_info": {
   "codemirror_mode": {
    "name": "ipython",
    "version": 2
   },
   "file_extension": ".py",
   "mimetype": "text/x-python",
   "name": "python",
   "nbconvert_exporter": "python",
   "pygments_lexer": "ipython2",
   "version": "2.7.10"
  }
 },
 "nbformat": 4,
 "nbformat_minor": 0
}
